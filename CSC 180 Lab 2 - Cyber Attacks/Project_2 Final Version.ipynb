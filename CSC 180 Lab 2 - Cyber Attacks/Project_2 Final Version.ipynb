{
 "cells": [
  {
   "cell_type": "markdown",
   "id": "675b9aec-37d2-4f81-b6a6-3be8f0c1d298",
   "metadata": {},
   "source": [
    "#### CSC180 Project 2\n",
    "\n",
    "#### Xiong Moua Student_id: 220278332\n",
    "#### William Moosakhanian Student_id: 302537495\n",
    "\n",
    "#### API References\n",
    "\n",
    "\n",
    "#### Merging: https://pandas.pydata.org/docs/user_guide/merging.html\n",
    "#### Mask: https://pandas.pydata.org/docs/reference/api/pandas.DataFrame.mask.html\n",
    "#### Copy: https://pandas.pydata.org/docs/reference/api/pandas.DataFrame.copy.html\n",
    "#### Head: https://pandas.pydata.org/docs/reference/api/pandas.DataFrame.head.html\n",
    "#### Value Count: https://pandas.pydata.org/docs/reference/api/pandas.DataFrame.value_counts.html\n",
    "#### Shape: https://pandas.pydata.org/docs/reference/api/pandas.DataFrame.shape.html\n",
    "#### Indexing: https://pandas.pydata.org/pandas-docs/stable/user_guide/indexing.html\n",
    "#### Boolean Indexing: https://pandas.pydata.org/pandas-docs/stable/user_guide/indexing.html#indexing-boolean\n",
    "#### Read CSV: https://pandas.pydata.org/docs/reference/api/pandas.read_csv.html \n",
    "#### Duplicates: https://pandas.pydata.org/docs/reference/api/pandas.DataFrame.duplicated.html\n",
    "#### Replace: https://pandas.pydata.org/docs/reference/api/pandas.DataFrame.replace.html\n",
    "\n",
    "#### SVM: https://scikit-learn.org/stable/modules/classes.html#module-sklearn.svm\n",
    "#### Metrics: https://scikit-learn.org/stable/modules/classes.html#sklearn-metrics-metrics\n",
    "#### Logistic Regression: https://scikit-learn.org/stable/modules/generated/sklearn.linear_model.LogisticRegression.html\n",
    "\n",
    "#### Unique Values: https://favtutor.com/blogs/pandas-unique-values-in-column\n",
    "#### List Comprehensions: https://www.w3schools.com/python/python_lists_comprehension.asp\n",
    "\n",
    "#### ** ****IMPORTS**** **"
   ]
  },
  {
   "cell_type": "code",
   "execution_count": 1,
   "id": "c53d0881-53e7-4fb7-8387-3bd549dd5894",
   "metadata": {},
   "outputs": [],
   "source": [
    "from collections.abc import Sequence\n",
    "from sklearn import metrics\n",
    "from sklearn import preprocessing\n",
    "from sklearn.linear_model import LogisticRegression\n",
    "from sklearn import svm\n",
    "from tensorflow.keras.models import Sequential\n",
    "from tensorflow.keras.layers import Dense, Activation\n",
    "import pandas as pd\n",
    "import json\n",
    "import numpy as np\n",
    "import sklearn.feature_extraction.text as sk_text\n",
    "import tensorflow as tf\n",
    "from tensorflow import keras\n",
    "from tensorflow.keras.callbacks import EarlyStopping\n",
    "import os\n",
    "import time\n",
    "from sklearn.model_selection import train_test_split\n",
    "from tensorflow.keras.callbacks import ModelCheckpoint\n",
    "from sklearn.metrics import mean_squared_error\n",
    "from tensorflow.keras.optimizers import Adam\n",
    "import matplotlib.pyplot as plt\n",
    "from tensorflow.keras.optimizers import RMSprop\n",
    "from sklearn.metrics import confusion_matrix, classification_report\n",
    "import warnings\n",
    "from tensorflow.keras.layers import Conv2D, MaxPooling2D\n",
    "from tensorflow.keras.layers import Dense, Dropout, Flatten\n",
    "from sklearn.preprocessing import LabelEncoder\n",
    "from sklearn import svm\n",
    "from sklearn.metrics import roc_curve, auc"
   ]
  },
  {
   "cell_type": "code",
   "execution_count": 2,
   "id": "62841969-21bf-4d41-9104-67e78f18c7e5",
   "metadata": {},
   "outputs": [],
   "source": [
    "# Encode text values to dummy variables(i.e. [1,0,0],[0,1,0],[0,0,1] for red,green,blue)\n",
    "def encode_text_dummy(df, name):\n",
    "    dummies = pd.get_dummies(df[name])\n",
    "    for x in dummies.columns:\n",
    "        dummy_name = \"{}-{}\".format(name, x)\n",
    "        df[dummy_name] = dummies[x]\n",
    "    df.drop(name, axis=1, inplace=True)\n",
    "\n",
    "\n",
    "# Encode text values to indexes(i.e. [1],[2],[3] for red,green,blue).\n",
    "def encode_text_index(df, name):\n",
    "    le = preprocessing.LabelEncoder()\n",
    "    df[name] = le.fit_transform(df[name])\n",
    "    return le.classes_\n",
    "\n",
    "\n",
    "# Encode a numeric column as zscores\n",
    "def encode_numeric_zscore(df, name, mean=None, sd=None):\n",
    "    if mean is None:\n",
    "        mean = df[name].mean()\n",
    "\n",
    "    if sd is None:\n",
    "        sd = df[name].std()\n",
    "\n",
    "    df[name] = (df[name] - mean) / sd\n",
    "\n",
    "\n",
    "# Convert all missing values in the specified column to the median\n",
    "def missing_median(df, name):\n",
    "    med = df[name].median()\n",
    "    df[name] = df[name].fillna(med)\n",
    "\n",
    "\n",
    "# Convert all missing values in the specified column to the default\n",
    "def missing_default(df, name, default_value):\n",
    "    df[name] = df[name].fillna(default_value)\n",
    "\n",
    "\n",
    "# Convert a Pandas dataframe to the x,y inputs that TensorFlow needs\n",
    "def to_xy(df, target):\n",
    "    result = []\n",
    "    for x in df.columns:\n",
    "        if x != target:\n",
    "            result.append(x)\n",
    "    # find out the type of the target column. \n",
    "    target_type = df[target].dtypes\n",
    "    target_type = target_type[0] if isinstance(target_type, Sequence) else target_type\n",
    "    # Encode to int for classification, float otherwise. TensorFlow likes 32 bits.\n",
    "    if target_type in (np.int64, np.int32):\n",
    "        # Classification\n",
    "        dummies = pd.get_dummies(df[target])\n",
    "        return df[result].values.astype(np.float32), dummies.values.astype(np.float32)\n",
    "    else:\n",
    "        # Regression\n",
    "        return df[result].values.astype(np.float32), df[target].values.astype(np.float32)\n",
    "\n",
    "# Nicely formatted time string\n",
    "def hms_string(sec_elapsed):\n",
    "    h = int(sec_elapsed / (60 * 60))\n",
    "    m = int((sec_elapsed % (60 * 60)) / 60)\n",
    "    s = sec_elapsed % 60\n",
    "    return \"{}:{:>02}:{:>05.2f}\".format(h, m, s)\n",
    "\n",
    "\n",
    "# Regression chart.\n",
    "def chart_regression(pred,y,sort=True):\n",
    "    t = pd.DataFrame({'pred' : pred, 'y' : y.flatten()})\n",
    "    if sort:\n",
    "        t.sort_values(by=['y'],inplace=True)\n",
    "    a = plt.plot(t['y'].tolist(),label='expected')\n",
    "    b = plt.plot(t['pred'].tolist(),label='prediction')\n",
    "    plt.ylabel('output')\n",
    "    plt.legend()\n",
    "    plt.show()\n",
    "\n",
    "# Remove all rows where the specified column is +/- sd standard deviations\n",
    "def remove_outliers(df, name, sd):\n",
    "    drop_rows = df.index[(np.abs(df[name] - df[name].mean()) >= (sd * df[name].std()))]\n",
    "    df.drop(drop_rows, axis=0, inplace=True)\n",
    "\n",
    "\n",
    "# Encode a column to a range between normalized_low and normalized_high.\n",
    "def encode_numeric_range(df, name, normalized_low=-1, normalized_high=1,\n",
    "                         data_low=None, data_high=None):\n",
    "    if data_low is None:\n",
    "        data_low = min(df[name])\n",
    "        data_high = max(df[name])\n",
    "\n",
    "    df[name] = ((df[name] - data_low) / (data_high - data_low)) \\\n",
    "               * (normalized_high - normalized_low) + normalized_low\n",
    "    \n",
    "def plot_confusion_matrix(cm, names, title='Confusion matrix', cmap=plt.cm.Blues):\n",
    "    plt.imshow(cm, interpolation='nearest', cmap=cmap)\n",
    "    plt.title(title)\n",
    "    plt.colorbar()\n",
    "    tick_marks = np.arange(len(names))\n",
    "    plt.xticks(tick_marks, names, rotation=45)\n",
    "    plt.yticks(tick_marks, names)\n",
    "    plt.tight_layout()\n",
    "    plt.ylabel('True label')\n",
    "    plt.xlabel('Predicted label')\n",
    "    \n",
    "\n",
    "# Plot an ROC. pred - the predictions, y - the expected output.\n",
    "def plot_roc(pred,y):\n",
    "    fpr, tpr, thresholds = roc_curve(y, pred)\n",
    "    roc_auc = auc(fpr, tpr)\n",
    "\n",
    "    plt.figure()\n",
    "    plt.plot(fpr, tpr, label='ROC curve (area = %0.2f)' % roc_auc)\n",
    "    plt.plot([0, 1], [0, 1], 'k--')\n",
    "    plt.xlim([0.0, 1.0])\n",
    "    plt.ylim([0.0, 1.05])\n",
    "    plt.xlabel('False Positive Rate')\n",
    "    plt.ylabel('True Positive Rate')\n",
    "    plt.title('Receiver Operating Characteristic (ROC)')\n",
    "    plt.legend(loc=\"lower right\")\n",
    "    plt.show()\n",
    "\n",
    "\n",
    "start = time.time()\n",
    "warnings.filterwarnings('ignore')"
   ]
  },
  {
   "cell_type": "code",
   "execution_count": 3,
   "id": "4db5d865-a86e-471a-9288-ed3ac08dc554",
   "metadata": {},
   "outputs": [
    {
     "name": "stdout",
     "output_type": "stream",
     "text": [
      "            id       dur proto service state  spkts  dpkts  sbytes  dbytes  \\\n",
      "0            1  0.121478   tcp       -   FIN      6      4     258     172   \n",
      "1            2  0.649902   tcp       -   FIN     14     38     734   42014   \n",
      "2            3  1.623129   tcp       -   FIN      8     16     364   13186   \n",
      "3            4  1.681642   tcp     ftp   FIN     12     12     628     770   \n",
      "4            5  0.449454   tcp       -   FIN     10      6     534     268   \n",
      "...        ...       ...   ...     ...   ...    ...    ...     ...     ...   \n",
      "175336  175337  0.000009   udp     dns   INT      2      0     114       0   \n",
      "175337  175338  0.505762   tcp       -   FIN     10      8     620     354   \n",
      "175338  175339  0.000009   udp     dns   INT      2      0     114       0   \n",
      "175339  175340  0.000009   udp     dns   INT      2      0     114       0   \n",
      "175340  175341  0.000009   udp     dns   INT      2      0     114       0   \n",
      "\n",
      "                 rate  ...  ct_dst_sport_ltm  ct_dst_src_ltm  is_ftp_login  \\\n",
      "0           74.087490  ...                 1               1             0   \n",
      "1           78.473372  ...                 1               2             0   \n",
      "2           14.170161  ...                 1               3             0   \n",
      "3           13.677108  ...                 1               3             1   \n",
      "4           33.373826  ...                 1              40             0   \n",
      "...               ...  ...               ...             ...           ...   \n",
      "175336  111111.107200  ...                13              24             0   \n",
      "175337      33.612649  ...                 1               2             0   \n",
      "175338  111111.107200  ...                 3              13             0   \n",
      "175339  111111.107200  ...                14              30             0   \n",
      "175340  111111.107200  ...                16              30             0   \n",
      "\n",
      "        ct_ftp_cmd  ct_flw_http_mthd  ct_src_ltm  ct_srv_dst  is_sm_ips_ports  \\\n",
      "0                0                 0           1           1                0   \n",
      "1                0                 0           1           6                0   \n",
      "2                0                 0           2           6                0   \n",
      "3                1                 0           2           1                0   \n",
      "4                0                 0           2          39                0   \n",
      "...            ...               ...         ...         ...              ...   \n",
      "175336           0                 0          24          24                0   \n",
      "175337           0                 0           1           1                0   \n",
      "175338           0                 0           3          12                0   \n",
      "175339           0                 0          30          30                0   \n",
      "175340           0                 0          30          30                0   \n",
      "\n",
      "        attack_cat  label  \n",
      "0           Normal      0  \n",
      "1           Normal      0  \n",
      "2           Normal      0  \n",
      "3           Normal      0  \n",
      "4           Normal      0  \n",
      "...            ...    ...  \n",
      "175336     Generic      1  \n",
      "175337   Shellcode      1  \n",
      "175338     Generic      1  \n",
      "175339     Generic      1  \n",
      "175340     Generic      1  \n",
      "\n",
      "[175341 rows x 45 columns]\n"
     ]
    }
   ],
   "source": [
    "train_excel = pd.read_csv('UNSW_NB15_training-set.csv')\n",
    "test_excel = pd.read_csv('UNSW_NB15_test-set.csv')\n",
    "\n",
    "print(train_excel)"
   ]
  },
  {
   "cell_type": "code",
   "execution_count": 4,
   "id": "eec69e0f-6c0e-4e5f-9c49-cdbd04123c57",
   "metadata": {},
   "outputs": [
    {
     "data": {
      "text/html": [
       "<div>\n",
       "<style scoped>\n",
       "    .dataframe tbody tr th:only-of-type {\n",
       "        vertical-align: middle;\n",
       "    }\n",
       "\n",
       "    .dataframe tbody tr th {\n",
       "        vertical-align: top;\n",
       "    }\n",
       "\n",
       "    .dataframe thead th {\n",
       "        text-align: right;\n",
       "    }\n",
       "</style>\n",
       "<table border=\"1\" class=\"dataframe\">\n",
       "  <thead>\n",
       "    <tr style=\"text-align: right;\">\n",
       "      <th></th>\n",
       "      <th>id</th>\n",
       "      <th>dur</th>\n",
       "      <th>proto</th>\n",
       "      <th>service</th>\n",
       "      <th>state</th>\n",
       "      <th>spkts</th>\n",
       "      <th>dpkts</th>\n",
       "      <th>sbytes</th>\n",
       "      <th>dbytes</th>\n",
       "      <th>rate</th>\n",
       "      <th>...</th>\n",
       "      <th>ct_dst_sport_ltm</th>\n",
       "      <th>ct_dst_src_ltm</th>\n",
       "      <th>is_ftp_login</th>\n",
       "      <th>ct_ftp_cmd</th>\n",
       "      <th>ct_flw_http_mthd</th>\n",
       "      <th>ct_src_ltm</th>\n",
       "      <th>ct_srv_dst</th>\n",
       "      <th>is_sm_ips_ports</th>\n",
       "      <th>attack_cat</th>\n",
       "      <th>label</th>\n",
       "    </tr>\n",
       "  </thead>\n",
       "  <tbody>\n",
       "    <tr>\n",
       "      <th>0</th>\n",
       "      <td>1</td>\n",
       "      <td>0.121478</td>\n",
       "      <td>tcp</td>\n",
       "      <td>-</td>\n",
       "      <td>FIN</td>\n",
       "      <td>6</td>\n",
       "      <td>4</td>\n",
       "      <td>258</td>\n",
       "      <td>172</td>\n",
       "      <td>74.087490</td>\n",
       "      <td>...</td>\n",
       "      <td>1</td>\n",
       "      <td>1</td>\n",
       "      <td>0</td>\n",
       "      <td>0</td>\n",
       "      <td>0</td>\n",
       "      <td>1</td>\n",
       "      <td>1</td>\n",
       "      <td>0</td>\n",
       "      <td>Normal</td>\n",
       "      <td>0</td>\n",
       "    </tr>\n",
       "    <tr>\n",
       "      <th>1</th>\n",
       "      <td>2</td>\n",
       "      <td>0.649902</td>\n",
       "      <td>tcp</td>\n",
       "      <td>-</td>\n",
       "      <td>FIN</td>\n",
       "      <td>14</td>\n",
       "      <td>38</td>\n",
       "      <td>734</td>\n",
       "      <td>42014</td>\n",
       "      <td>78.473372</td>\n",
       "      <td>...</td>\n",
       "      <td>1</td>\n",
       "      <td>2</td>\n",
       "      <td>0</td>\n",
       "      <td>0</td>\n",
       "      <td>0</td>\n",
       "      <td>1</td>\n",
       "      <td>6</td>\n",
       "      <td>0</td>\n",
       "      <td>Normal</td>\n",
       "      <td>0</td>\n",
       "    </tr>\n",
       "    <tr>\n",
       "      <th>2</th>\n",
       "      <td>3</td>\n",
       "      <td>1.623129</td>\n",
       "      <td>tcp</td>\n",
       "      <td>-</td>\n",
       "      <td>FIN</td>\n",
       "      <td>8</td>\n",
       "      <td>16</td>\n",
       "      <td>364</td>\n",
       "      <td>13186</td>\n",
       "      <td>14.170161</td>\n",
       "      <td>...</td>\n",
       "      <td>1</td>\n",
       "      <td>3</td>\n",
       "      <td>0</td>\n",
       "      <td>0</td>\n",
       "      <td>0</td>\n",
       "      <td>2</td>\n",
       "      <td>6</td>\n",
       "      <td>0</td>\n",
       "      <td>Normal</td>\n",
       "      <td>0</td>\n",
       "    </tr>\n",
       "    <tr>\n",
       "      <th>3</th>\n",
       "      <td>4</td>\n",
       "      <td>1.681642</td>\n",
       "      <td>tcp</td>\n",
       "      <td>ftp</td>\n",
       "      <td>FIN</td>\n",
       "      <td>12</td>\n",
       "      <td>12</td>\n",
       "      <td>628</td>\n",
       "      <td>770</td>\n",
       "      <td>13.677108</td>\n",
       "      <td>...</td>\n",
       "      <td>1</td>\n",
       "      <td>3</td>\n",
       "      <td>1</td>\n",
       "      <td>1</td>\n",
       "      <td>0</td>\n",
       "      <td>2</td>\n",
       "      <td>1</td>\n",
       "      <td>0</td>\n",
       "      <td>Normal</td>\n",
       "      <td>0</td>\n",
       "    </tr>\n",
       "    <tr>\n",
       "      <th>4</th>\n",
       "      <td>5</td>\n",
       "      <td>0.449454</td>\n",
       "      <td>tcp</td>\n",
       "      <td>-</td>\n",
       "      <td>FIN</td>\n",
       "      <td>10</td>\n",
       "      <td>6</td>\n",
       "      <td>534</td>\n",
       "      <td>268</td>\n",
       "      <td>33.373826</td>\n",
       "      <td>...</td>\n",
       "      <td>1</td>\n",
       "      <td>40</td>\n",
       "      <td>0</td>\n",
       "      <td>0</td>\n",
       "      <td>0</td>\n",
       "      <td>2</td>\n",
       "      <td>39</td>\n",
       "      <td>0</td>\n",
       "      <td>Normal</td>\n",
       "      <td>0</td>\n",
       "    </tr>\n",
       "  </tbody>\n",
       "</table>\n",
       "<p>5 rows × 45 columns</p>\n",
       "</div>"
      ],
      "text/plain": [
       "   id       dur proto service state  spkts  dpkts  sbytes  dbytes       rate  \\\n",
       "0   1  0.121478   tcp       -   FIN      6      4     258     172  74.087490   \n",
       "1   2  0.649902   tcp       -   FIN     14     38     734   42014  78.473372   \n",
       "2   3  1.623129   tcp       -   FIN      8     16     364   13186  14.170161   \n",
       "3   4  1.681642   tcp     ftp   FIN     12     12     628     770  13.677108   \n",
       "4   5  0.449454   tcp       -   FIN     10      6     534     268  33.373826   \n",
       "\n",
       "   ...  ct_dst_sport_ltm  ct_dst_src_ltm  is_ftp_login  ct_ftp_cmd  \\\n",
       "0  ...                 1               1             0           0   \n",
       "1  ...                 1               2             0           0   \n",
       "2  ...                 1               3             0           0   \n",
       "3  ...                 1               3             1           1   \n",
       "4  ...                 1              40             0           0   \n",
       "\n",
       "   ct_flw_http_mthd  ct_src_ltm  ct_srv_dst  is_sm_ips_ports  attack_cat  \\\n",
       "0                 0           1           1                0      Normal   \n",
       "1                 0           1           6                0      Normal   \n",
       "2                 0           2           6                0      Normal   \n",
       "3                 0           2           1                0      Normal   \n",
       "4                 0           2          39                0      Normal   \n",
       "\n",
       "   label  \n",
       "0      0  \n",
       "1      0  \n",
       "2      0  \n",
       "3      0  \n",
       "4      0  \n",
       "\n",
       "[5 rows x 45 columns]"
      ]
     },
     "execution_count": 4,
     "metadata": {},
     "output_type": "execute_result"
    }
   ],
   "source": [
    "train_df = train_excel\n",
    "test_df = test_excel\n",
    "train_df.head()"
   ]
  },
  {
   "cell_type": "code",
   "execution_count": 5,
   "id": "4fd13946-2215-4cc5-b3d1-8228eda148dc",
   "metadata": {},
   "outputs": [
    {
     "name": "stdout",
     "output_type": "stream",
     "text": [
      "['-' '3pc' 'Analysis' 'Backdoor' 'CON' 'DoS' 'ECO' 'Exploits' 'FIN'\n",
      " 'Fuzzers' 'Generic' 'INT' 'Normal' 'PAR' 'REQ' 'RST' 'Reconnaissance'\n",
      " 'Shellcode' 'URN' 'Worms' 'a/n' 'aes-sp3-d' 'any' 'argus' 'aris' 'arp'\n",
      " 'ax.25' 'bbn-rcc' 'bna' 'br-sat-mon' 'cbt' 'cftp' 'chaos' 'compaq-peer'\n",
      " 'cphb' 'cpnx' 'crtp' 'crudp' 'dcn' 'ddp' 'ddx' 'dgp' 'dhcp' 'dns' 'egp'\n",
      " 'eigrp' 'emcon' 'encap' 'etherip' 'fc' 'fire' 'ftp' 'ftp-data' 'ggp'\n",
      " 'gmtp' 'gre' 'hmp' 'http' 'i-nlsp' 'iatp' 'ib' 'icmp' 'idpr' 'idpr-cmtp'\n",
      " 'idrp' 'ifmp' 'igmp' 'igp' 'il' 'ip' 'ipcomp' 'ipcv' 'ipip' 'iplt'\n",
      " 'ipnip' 'ippc' 'ipv6' 'ipv6-frag' 'ipv6-no' 'ipv6-opts' 'ipv6-route'\n",
      " 'ipx-n-ip' 'irc' 'irtp' 'isis' 'iso-ip' 'iso-tp4' 'kryptolan' 'l2tp'\n",
      " 'larp' 'leaf-1' 'leaf-2' 'merit-inp' 'mfe-nsp' 'mhrp' 'micp' 'mobile'\n",
      " 'mtp' 'mux' 'narp' 'netblt' 'no' 'nsfnet-igp' 'nvp' 'ospf' 'pgm' 'pim'\n",
      " 'pipe' 'pnni' 'pop3' 'pri-enc' 'prm' 'ptp' 'pup' 'pvp' 'qnx' 'radius'\n",
      " 'rdp' 'rsvp' 'rtp' 'rvd' 'sat-expak' 'sat-mon' 'sccopmce' 'scps' 'sctp'\n",
      " 'sdrp' 'secure-vmtp' 'sep' 'skip' 'sm' 'smp' 'smtp' 'snmp' 'snp'\n",
      " 'sprite-rpc' 'sps' 'srp' 'ssh' 'ssl' 'st2' 'stp' 'sun-nd' 'swipe' 'tcf'\n",
      " 'tcp' 'tlsp' 'tp++' 'trunk-1' 'trunk-2' 'ttp' 'udp' 'unas' 'uti' 'vines'\n",
      " 'visa' 'vmtp' 'vrrp' 'wb-expak' 'wb-mon' 'wsn' 'xnet' 'xns-idp' 'xtp'\n",
      " 'zero']\n"
     ]
    }
   ],
   "source": [
    "unique_vals_train = (train_df['proto'].append(train_df['service'].append(train_df['state'].append(train_df['attack_cat'])))).unique()\n",
    "unique_vals_train.sort()\n",
    "\n",
    "unique_vals_test = (test_df['proto'].append(test_df['service'].append(test_df['state'].append(test_df['attack_cat'])))).unique()\n",
    "unique_vals_test.sort()\n",
    "\n",
    "\n",
    "print(unique_vals_train)"
   ]
  },
  {
   "cell_type": "code",
   "execution_count": 6,
   "id": "ab7c36ab-728e-4c41-8067-cf22fff9c5e8",
   "metadata": {},
   "outputs": [
    {
     "name": "stdout",
     "output_type": "stream",
     "text": [
      "161\n",
      "165\n"
     ]
    }
   ],
   "source": [
    "print(unique_vals_test.size)\n",
    "print(unique_vals_train.size)"
   ]
  },
  {
   "cell_type": "code",
   "execution_count": 7,
   "id": "1afad31a-bbf1-4698-a72f-3022e7894793",
   "metadata": {},
   "outputs": [
    {
     "name": "stdout",
     "output_type": "stream",
     "text": [
      "['ACC', 'CLO', 'ECO', 'PAR', 'URN', 'icmp', 'no', 'rtp']\n"
     ]
    }
   ],
   "source": [
    "not_inside = []\n",
    "test_length = len(unique_vals_test) - 1\n",
    "for i in range(len(unique_vals_train)):\n",
    "    temp_val = unique_vals_train[i]\n",
    "    for j in range(len(unique_vals_test)):\n",
    "        \n",
    "        if temp_val == unique_vals_test[j]:\n",
    "            #print(str(i) + \" \" + str(j) + \" \" + temp_val)\n",
    "            break\n",
    "            \n",
    "        elif temp_val != unique_vals_test[j]:\n",
    "            #print(str(i) + \" \" + str(j) + \" \" + temp_val + \" not inside\" )\n",
    "            if j == test_length:\n",
    "                not_inside.append(temp_val)\n",
    "                #print(\"appended\")\n",
    "            continue\n",
    "        else:\n",
    "            print(\"error\")\n",
    "            \n",
    "train_length = len(unique_vals_train) - 1\n",
    "for i in range(len(unique_vals_test)):\n",
    "    temp_val = unique_vals_test[i]\n",
    "    for j in range(len(unique_vals_train)):\n",
    "        \n",
    "        if temp_val == unique_vals_train[j]:\n",
    "            #print(str(i) + \" \" + str(j) + \" \" + temp_val)\n",
    "            break\n",
    "            \n",
    "        elif temp_val != unique_vals_train[j]:\n",
    "            #print(str(i) + \" \" + str(j) + \" \" + temp_val + \" not inside\" )\n",
    "            if j == train_length:\n",
    "                not_inside.append(temp_val)\n",
    "                #print(\"appended\")\n",
    "            continue\n",
    "        else:\n",
    "            print(\"error\") \n",
    "not_inside.sort()\n",
    "print(not_inside)"
   ]
  },
  {
   "cell_type": "code",
   "execution_count": 8,
   "id": "9d445207-c748-420a-b109-45031aee163c",
   "metadata": {},
   "outputs": [
    {
     "name": "stdout",
     "output_type": "stream",
     "text": [
      "TRAIN: [141, 2833, 5611, 6827, 13249, 16466, 18578, 18916, 20806, 20808, 23251, 23366, 27500, 29457, 32911, 39937]\n",
      "TEST: [458, 25532, 25772, 49080, 56546]\n"
     ]
    }
   ],
   "source": [
    "cols = ['proto', 'service', 'state', 'attack_cat']\n",
    "\n",
    "filtered_train_df = train_df\n",
    "filtered_test_df = test_df\n",
    "\n",
    "index_train_list = []\n",
    "index_test_list = []\n",
    "\n",
    "for i in range(len(cols)):\n",
    "    # print(not_inside[i])\\\n",
    "    # print(cols[i])\n",
    "    for j in range(len(not_inside)):\n",
    "        # print(not_inside[j])\n",
    "        flt_train = filtered_train_df[filtered_train_df[cols[i]] == not_inside[j]].index.values\n",
    "        flt_test = filtered_test_df[filtered_test_df[cols[i]] == not_inside[j]].index.values\n",
    "        if flt_train.size != 0:\n",
    "            # print(flt)\n",
    "            index_train_list.extend(flt_train)\n",
    "        if flt_test.size != 0:\n",
    "            index_test_list.extend(flt_test)\n",
    "\n",
    "\n",
    "index_train_list = list(set(index_train_list))\n",
    "index_test_list = list(set(index_test_list))\n",
    "\n",
    "index_train_list.sort()\n",
    "index_test_list.sort()\n",
    "\n",
    "print(\"TRAIN: \" + str(index_train_list))\n",
    "print(\"TEST: \" + str(index_test_list))"
   ]
  },
  {
   "cell_type": "code",
   "execution_count": 9,
   "id": "fea89541-2146-4fa2-83d0-c488cf13c1bd",
   "metadata": {},
   "outputs": [],
   "source": [
    "filtered_train_df = filtered_train_df.drop(filtered_train_df.index[index_train_list])\n",
    "filtered_test_df = filtered_test_df.drop(filtered_test_df.index[index_test_list])\n"
   ]
  },
  {
   "cell_type": "code",
   "execution_count": 10,
   "id": "b94ee1cf-208d-4952-bd0f-f793178fc18e",
   "metadata": {},
   "outputs": [
    {
     "name": "stdout",
     "output_type": "stream",
     "text": [
      "82327\n",
      "82332\n",
      "175325\n",
      "175341\n"
     ]
    }
   ],
   "source": [
    "print(len(filtered_test_df))\n",
    "print(len(test_df))\n",
    "\n",
    "print(len(filtered_train_df))\n",
    "print(len(train_df))"
   ]
  },
  {
   "cell_type": "code",
   "execution_count": 11,
   "id": "a437b427-952c-4bd0-993a-06c9ef9f30aa",
   "metadata": {},
   "outputs": [
    {
     "name": "stdout",
     "output_type": "stream",
     "text": [
      "['dur', 'spkts', 'dpkts', 'sbytes', 'dbytes', 'rate', 'sttl', 'dttl', 'sload', 'dload', 'sloss', 'dloss', 'sinpkt', 'dinpkt', 'sjit', 'djit', 'swin', 'stcpb', 'dtcpb', 'dwin', 'tcprtt', 'synack', 'ackdat', 'smean', 'dmean', 'response_body_len', 'ct_srv_src', 'ct_state_ttl', 'ct_dst_ltm', 'ct_src_dport_ltm', 'ct_dst_sport_ltm', 'ct_dst_src_ltm', 'ct_ftp_cmd', 'ct_flw_http_mthd', 'ct_src_ltm', 'ct_srv_dst']\n"
     ]
    }
   ],
   "source": [
    "col_names = list(filtered_train_df.columns.values)\n",
    "cols_remove = ['id', 'proto', 'service', 'state', 'attack_cat', 'label', 'is_ftp_login', 'is_sm_ips_ports', 'trans_depth']\n",
    "remove_cols = [x for x in col_names if x not in cols_remove]\n",
    "\n",
    "print(remove_cols)"
   ]
  },
  {
   "cell_type": "code",
   "execution_count": 12,
   "id": "10d18215-20bf-4008-a346-bb6edebdf817",
   "metadata": {},
   "outputs": [
    {
     "data": {
      "text/html": [
       "<div>\n",
       "<style scoped>\n",
       "    .dataframe tbody tr th:only-of-type {\n",
       "        vertical-align: middle;\n",
       "    }\n",
       "\n",
       "    .dataframe tbody tr th {\n",
       "        vertical-align: top;\n",
       "    }\n",
       "\n",
       "    .dataframe thead th {\n",
       "        text-align: right;\n",
       "    }\n",
       "</style>\n",
       "<table border=\"1\" class=\"dataframe\">\n",
       "  <thead>\n",
       "    <tr style=\"text-align: right;\">\n",
       "      <th></th>\n",
       "      <th>label_check</th>\n",
       "    </tr>\n",
       "  </thead>\n",
       "  <tbody>\n",
       "    <tr>\n",
       "      <th>0</th>\n",
       "      <td>Normal</td>\n",
       "    </tr>\n",
       "    <tr>\n",
       "      <th>1</th>\n",
       "      <td>Normal</td>\n",
       "    </tr>\n",
       "    <tr>\n",
       "      <th>2</th>\n",
       "      <td>Normal</td>\n",
       "    </tr>\n",
       "    <tr>\n",
       "      <th>3</th>\n",
       "      <td>Normal</td>\n",
       "    </tr>\n",
       "    <tr>\n",
       "      <th>4</th>\n",
       "      <td>Normal</td>\n",
       "    </tr>\n",
       "  </tbody>\n",
       "</table>\n",
       "</div>"
      ],
      "text/plain": [
       "  label_check\n",
       "0      Normal\n",
       "1      Normal\n",
       "2      Normal\n",
       "3      Normal\n",
       "4      Normal"
      ]
     },
     "execution_count": 12,
     "metadata": {},
     "output_type": "execute_result"
    }
   ],
   "source": [
    "new_train_df = pd.DataFrame(filtered_train_df['label'].apply(lambda x: 'Normal' if x == 0 else 'Attack'))\n",
    "new_train_df.rename(columns={'label': 'label_check'}, inplace=True)\n",
    "\n",
    "new_test_df = pd.DataFrame(filtered_test_df['label'].apply(lambda x: 'Normal' if x == 0 else 'Attack'))\n",
    "new_test_df.rename(columns={'label': 'label_check'}, inplace=True)\n",
    "\n",
    "new_test_df.head()"
   ]
  },
  {
   "cell_type": "code",
   "execution_count": 13,
   "id": "83f903e6-c5bd-471b-a213-69fc8f9136bd",
   "metadata": {},
   "outputs": [],
   "source": [
    "combined_train_df = pd.concat([filtered_train_df, new_train_df], axis=1)\n",
    "combined_test_df = pd.concat([filtered_test_df, new_test_df], axis=1)"
   ]
  },
  {
   "cell_type": "code",
   "execution_count": 14,
   "id": "e83cb6dd-0e38-4a3c-9cb8-62c1c6964323",
   "metadata": {},
   "outputs": [
    {
     "data": {
      "text/plain": [
       "(175325, 46)"
      ]
     },
     "execution_count": 14,
     "metadata": {},
     "output_type": "execute_result"
    }
   ],
   "source": [
    "combined_train_df.shape"
   ]
  },
  {
   "cell_type": "code",
   "execution_count": 15,
   "id": "194aec12-ee65-4079-a251-b23a8323782e",
   "metadata": {},
   "outputs": [],
   "source": [
    "for i in range(len(remove_cols)):\n",
    "    encode_numeric_zscore(combined_train_df, remove_cols[i])\n",
    "    encode_numeric_zscore(combined_test_df, remove_cols[i])\n",
    "    \n",
    "cols_temp = ['proto', 'state', 'service', 'attack_cat']\n",
    "\n",
    "for i in range(len(cols_temp)):\n",
    "    encode_text_dummy(combined_train_df, cols_temp[i])\n",
    "    encode_text_dummy(combined_test_df, cols_temp[i])"
   ]
  },
  {
   "cell_type": "code",
   "execution_count": 16,
   "id": "19cb4076-2b5f-488d-b6bf-0ce5c791c97d",
   "metadata": {},
   "outputs": [
    {
     "data": {
      "text/html": [
       "<div>\n",
       "<style scoped>\n",
       "    .dataframe tbody tr th:only-of-type {\n",
       "        vertical-align: middle;\n",
       "    }\n",
       "\n",
       "    .dataframe tbody tr th {\n",
       "        vertical-align: top;\n",
       "    }\n",
       "\n",
       "    .dataframe thead th {\n",
       "        text-align: right;\n",
       "    }\n",
       "</style>\n",
       "<table border=\"1\" class=\"dataframe\">\n",
       "  <thead>\n",
       "    <tr style=\"text-align: right;\">\n",
       "      <th></th>\n",
       "      <th>id</th>\n",
       "      <th>dur</th>\n",
       "      <th>spkts</th>\n",
       "      <th>dpkts</th>\n",
       "      <th>sbytes</th>\n",
       "      <th>dbytes</th>\n",
       "      <th>rate</th>\n",
       "      <th>sttl</th>\n",
       "      <th>dttl</th>\n",
       "      <th>sload</th>\n",
       "      <th>...</th>\n",
       "      <th>attack_cat-Analysis</th>\n",
       "      <th>attack_cat-Backdoor</th>\n",
       "      <th>attack_cat-DoS</th>\n",
       "      <th>attack_cat-Exploits</th>\n",
       "      <th>attack_cat-Fuzzers</th>\n",
       "      <th>attack_cat-Generic</th>\n",
       "      <th>attack_cat-Normal</th>\n",
       "      <th>attack_cat-Reconnaissance</th>\n",
       "      <th>attack_cat-Shellcode</th>\n",
       "      <th>attack_cat-Worms</th>\n",
       "    </tr>\n",
       "  </thead>\n",
       "  <tbody>\n",
       "    <tr>\n",
       "      <th>0</th>\n",
       "      <td>1</td>\n",
       "      <td>-0.213729</td>\n",
       "      <td>-0.124458</td>\n",
       "      <td>-0.151819</td>\n",
       "      <td>-0.043685</td>\n",
       "      <td>-0.087371</td>\n",
       "      <td>0.057147</td>\n",
       "      <td>0.71943</td>\n",
       "      <td>-0.82036</td>\n",
       "      <td>0.643870</td>\n",
       "      <td>...</td>\n",
       "      <td>0</td>\n",
       "      <td>0</td>\n",
       "      <td>0</td>\n",
       "      <td>0</td>\n",
       "      <td>0</td>\n",
       "      <td>0</td>\n",
       "      <td>1</td>\n",
       "      <td>0</td>\n",
       "      <td>0</td>\n",
       "      <td>0</td>\n",
       "    </tr>\n",
       "    <tr>\n",
       "      <th>1</th>\n",
       "      <td>2</td>\n",
       "      <td>-0.213729</td>\n",
       "      <td>-0.124458</td>\n",
       "      <td>-0.151819</td>\n",
       "      <td>-0.036309</td>\n",
       "      <td>-0.087371</td>\n",
       "      <td>0.286524</td>\n",
       "      <td>0.71943</td>\n",
       "      <td>-0.82036</td>\n",
       "      <td>4.539181</td>\n",
       "      <td>...</td>\n",
       "      <td>0</td>\n",
       "      <td>0</td>\n",
       "      <td>0</td>\n",
       "      <td>0</td>\n",
       "      <td>0</td>\n",
       "      <td>0</td>\n",
       "      <td>1</td>\n",
       "      <td>0</td>\n",
       "      <td>0</td>\n",
       "      <td>0</td>\n",
       "    </tr>\n",
       "    <tr>\n",
       "      <th>2</th>\n",
       "      <td>3</td>\n",
       "      <td>-0.213730</td>\n",
       "      <td>-0.124458</td>\n",
       "      <td>-0.151819</td>\n",
       "      <td>-0.040352</td>\n",
       "      <td>-0.087371</td>\n",
       "      <td>0.791155</td>\n",
       "      <td>0.71943</td>\n",
       "      <td>-0.82036</td>\n",
       "      <td>4.391294</td>\n",
       "      <td>...</td>\n",
       "      <td>0</td>\n",
       "      <td>0</td>\n",
       "      <td>0</td>\n",
       "      <td>0</td>\n",
       "      <td>0</td>\n",
       "      <td>0</td>\n",
       "      <td>1</td>\n",
       "      <td>0</td>\n",
       "      <td>0</td>\n",
       "      <td>0</td>\n",
       "    </tr>\n",
       "    <tr>\n",
       "      <th>3</th>\n",
       "      <td>4</td>\n",
       "      <td>-0.213730</td>\n",
       "      <td>-0.124458</td>\n",
       "      <td>-0.151819</td>\n",
       "      <td>-0.041331</td>\n",
       "      <td>-0.087371</td>\n",
       "      <td>0.566874</td>\n",
       "      <td>0.71943</td>\n",
       "      <td>-0.82036</td>\n",
       "      <td>2.976912</td>\n",
       "      <td>...</td>\n",
       "      <td>0</td>\n",
       "      <td>0</td>\n",
       "      <td>0</td>\n",
       "      <td>0</td>\n",
       "      <td>0</td>\n",
       "      <td>0</td>\n",
       "      <td>1</td>\n",
       "      <td>0</td>\n",
       "      <td>0</td>\n",
       "      <td>0</td>\n",
       "    </tr>\n",
       "    <tr>\n",
       "      <th>4</th>\n",
       "      <td>5</td>\n",
       "      <td>-0.213729</td>\n",
       "      <td>-0.124458</td>\n",
       "      <td>-0.151819</td>\n",
       "      <td>-0.034189</td>\n",
       "      <td>-0.087371</td>\n",
       "      <td>0.118314</td>\n",
       "      <td>0.71943</td>\n",
       "      <td>-0.82036</td>\n",
       "      <td>4.369055</td>\n",
       "      <td>...</td>\n",
       "      <td>0</td>\n",
       "      <td>0</td>\n",
       "      <td>0</td>\n",
       "      <td>0</td>\n",
       "      <td>0</td>\n",
       "      <td>0</td>\n",
       "      <td>1</td>\n",
       "      <td>0</td>\n",
       "      <td>0</td>\n",
       "      <td>0</td>\n",
       "    </tr>\n",
       "  </tbody>\n",
       "</table>\n",
       "<p>5 rows × 201 columns</p>\n",
       "</div>"
      ],
      "text/plain": [
       "   id       dur     spkts     dpkts    sbytes    dbytes      rate     sttl  \\\n",
       "0   1 -0.213729 -0.124458 -0.151819 -0.043685 -0.087371  0.057147  0.71943   \n",
       "1   2 -0.213729 -0.124458 -0.151819 -0.036309 -0.087371  0.286524  0.71943   \n",
       "2   3 -0.213730 -0.124458 -0.151819 -0.040352 -0.087371  0.791155  0.71943   \n",
       "3   4 -0.213730 -0.124458 -0.151819 -0.041331 -0.087371  0.566874  0.71943   \n",
       "4   5 -0.213729 -0.124458 -0.151819 -0.034189 -0.087371  0.118314  0.71943   \n",
       "\n",
       "      dttl     sload  ...  attack_cat-Analysis  attack_cat-Backdoor  \\\n",
       "0 -0.82036  0.643870  ...                    0                    0   \n",
       "1 -0.82036  4.539181  ...                    0                    0   \n",
       "2 -0.82036  4.391294  ...                    0                    0   \n",
       "3 -0.82036  2.976912  ...                    0                    0   \n",
       "4 -0.82036  4.369055  ...                    0                    0   \n",
       "\n",
       "   attack_cat-DoS  attack_cat-Exploits  attack_cat-Fuzzers  \\\n",
       "0               0                    0                   0   \n",
       "1               0                    0                   0   \n",
       "2               0                    0                   0   \n",
       "3               0                    0                   0   \n",
       "4               0                    0                   0   \n",
       "\n",
       "   attack_cat-Generic  attack_cat-Normal  attack_cat-Reconnaissance  \\\n",
       "0                   0                  1                          0   \n",
       "1                   0                  1                          0   \n",
       "2                   0                  1                          0   \n",
       "3                   0                  1                          0   \n",
       "4                   0                  1                          0   \n",
       "\n",
       "   attack_cat-Shellcode  attack_cat-Worms  \n",
       "0                     0                 0  \n",
       "1                     0                 0  \n",
       "2                     0                 0  \n",
       "3                     0                 0  \n",
       "4                     0                 0  \n",
       "\n",
       "[5 rows x 201 columns]"
      ]
     },
     "execution_count": 16,
     "metadata": {},
     "output_type": "execute_result"
    }
   ],
   "source": [
    "filtered_train_copy = combined_train_df\n",
    "\n",
    "filtered_test_copy = combined_test_df\n",
    "filtered_test_copy.head()"
   ]
  },
  {
   "cell_type": "code",
   "execution_count": 17,
   "id": "9eb0e412-6140-4b2a-8355-1911868b2b35",
   "metadata": {},
   "outputs": [
    {
     "data": {
      "text/html": [
       "<div>\n",
       "<style scoped>\n",
       "    .dataframe tbody tr th:only-of-type {\n",
       "        vertical-align: middle;\n",
       "    }\n",
       "\n",
       "    .dataframe tbody tr th {\n",
       "        vertical-align: top;\n",
       "    }\n",
       "\n",
       "    .dataframe thead th {\n",
       "        text-align: right;\n",
       "    }\n",
       "</style>\n",
       "<table border=\"1\" class=\"dataframe\">\n",
       "  <thead>\n",
       "    <tr style=\"text-align: right;\">\n",
       "      <th></th>\n",
       "      <th>id</th>\n",
       "      <th>dur</th>\n",
       "      <th>spkts</th>\n",
       "      <th>dpkts</th>\n",
       "      <th>sbytes</th>\n",
       "      <th>dbytes</th>\n",
       "      <th>rate</th>\n",
       "      <th>sttl</th>\n",
       "      <th>dttl</th>\n",
       "      <th>sload</th>\n",
       "      <th>...</th>\n",
       "      <th>attack_cat-Analysis</th>\n",
       "      <th>attack_cat-Backdoor</th>\n",
       "      <th>attack_cat-DoS</th>\n",
       "      <th>attack_cat-Exploits</th>\n",
       "      <th>attack_cat-Fuzzers</th>\n",
       "      <th>attack_cat-Generic</th>\n",
       "      <th>attack_cat-Normal</th>\n",
       "      <th>attack_cat-Reconnaissance</th>\n",
       "      <th>attack_cat-Shellcode</th>\n",
       "      <th>attack_cat-Worms</th>\n",
       "    </tr>\n",
       "  </thead>\n",
       "  <tbody>\n",
       "    <tr>\n",
       "      <th>0</th>\n",
       "      <td>1</td>\n",
       "      <td>-0.213729</td>\n",
       "      <td>-0.124458</td>\n",
       "      <td>-0.151819</td>\n",
       "      <td>-0.043685</td>\n",
       "      <td>-0.087371</td>\n",
       "      <td>0.057147</td>\n",
       "      <td>0.71943</td>\n",
       "      <td>-0.82036</td>\n",
       "      <td>0.643870</td>\n",
       "      <td>...</td>\n",
       "      <td>0</td>\n",
       "      <td>0</td>\n",
       "      <td>0</td>\n",
       "      <td>0</td>\n",
       "      <td>0</td>\n",
       "      <td>0</td>\n",
       "      <td>1</td>\n",
       "      <td>0</td>\n",
       "      <td>0</td>\n",
       "      <td>0</td>\n",
       "    </tr>\n",
       "    <tr>\n",
       "      <th>1</th>\n",
       "      <td>2</td>\n",
       "      <td>-0.213729</td>\n",
       "      <td>-0.124458</td>\n",
       "      <td>-0.151819</td>\n",
       "      <td>-0.036309</td>\n",
       "      <td>-0.087371</td>\n",
       "      <td>0.286524</td>\n",
       "      <td>0.71943</td>\n",
       "      <td>-0.82036</td>\n",
       "      <td>4.539181</td>\n",
       "      <td>...</td>\n",
       "      <td>0</td>\n",
       "      <td>0</td>\n",
       "      <td>0</td>\n",
       "      <td>0</td>\n",
       "      <td>0</td>\n",
       "      <td>0</td>\n",
       "      <td>1</td>\n",
       "      <td>0</td>\n",
       "      <td>0</td>\n",
       "      <td>0</td>\n",
       "    </tr>\n",
       "    <tr>\n",
       "      <th>2</th>\n",
       "      <td>3</td>\n",
       "      <td>-0.213730</td>\n",
       "      <td>-0.124458</td>\n",
       "      <td>-0.151819</td>\n",
       "      <td>-0.040352</td>\n",
       "      <td>-0.087371</td>\n",
       "      <td>0.791155</td>\n",
       "      <td>0.71943</td>\n",
       "      <td>-0.82036</td>\n",
       "      <td>4.391294</td>\n",
       "      <td>...</td>\n",
       "      <td>0</td>\n",
       "      <td>0</td>\n",
       "      <td>0</td>\n",
       "      <td>0</td>\n",
       "      <td>0</td>\n",
       "      <td>0</td>\n",
       "      <td>1</td>\n",
       "      <td>0</td>\n",
       "      <td>0</td>\n",
       "      <td>0</td>\n",
       "    </tr>\n",
       "    <tr>\n",
       "      <th>3</th>\n",
       "      <td>4</td>\n",
       "      <td>-0.213730</td>\n",
       "      <td>-0.124458</td>\n",
       "      <td>-0.151819</td>\n",
       "      <td>-0.041331</td>\n",
       "      <td>-0.087371</td>\n",
       "      <td>0.566874</td>\n",
       "      <td>0.71943</td>\n",
       "      <td>-0.82036</td>\n",
       "      <td>2.976912</td>\n",
       "      <td>...</td>\n",
       "      <td>0</td>\n",
       "      <td>0</td>\n",
       "      <td>0</td>\n",
       "      <td>0</td>\n",
       "      <td>0</td>\n",
       "      <td>0</td>\n",
       "      <td>1</td>\n",
       "      <td>0</td>\n",
       "      <td>0</td>\n",
       "      <td>0</td>\n",
       "    </tr>\n",
       "    <tr>\n",
       "      <th>4</th>\n",
       "      <td>5</td>\n",
       "      <td>-0.213729</td>\n",
       "      <td>-0.124458</td>\n",
       "      <td>-0.151819</td>\n",
       "      <td>-0.034189</td>\n",
       "      <td>-0.087371</td>\n",
       "      <td>0.118314</td>\n",
       "      <td>0.71943</td>\n",
       "      <td>-0.82036</td>\n",
       "      <td>4.369055</td>\n",
       "      <td>...</td>\n",
       "      <td>0</td>\n",
       "      <td>0</td>\n",
       "      <td>0</td>\n",
       "      <td>0</td>\n",
       "      <td>0</td>\n",
       "      <td>0</td>\n",
       "      <td>1</td>\n",
       "      <td>0</td>\n",
       "      <td>0</td>\n",
       "      <td>0</td>\n",
       "    </tr>\n",
       "  </tbody>\n",
       "</table>\n",
       "<p>5 rows × 201 columns</p>\n",
       "</div>"
      ],
      "text/plain": [
       "   id       dur     spkts     dpkts    sbytes    dbytes      rate     sttl  \\\n",
       "0   1 -0.213729 -0.124458 -0.151819 -0.043685 -0.087371  0.057147  0.71943   \n",
       "1   2 -0.213729 -0.124458 -0.151819 -0.036309 -0.087371  0.286524  0.71943   \n",
       "2   3 -0.213730 -0.124458 -0.151819 -0.040352 -0.087371  0.791155  0.71943   \n",
       "3   4 -0.213730 -0.124458 -0.151819 -0.041331 -0.087371  0.566874  0.71943   \n",
       "4   5 -0.213729 -0.124458 -0.151819 -0.034189 -0.087371  0.118314  0.71943   \n",
       "\n",
       "      dttl     sload  ...  attack_cat-Analysis  attack_cat-Backdoor  \\\n",
       "0 -0.82036  0.643870  ...                    0                    0   \n",
       "1 -0.82036  4.539181  ...                    0                    0   \n",
       "2 -0.82036  4.391294  ...                    0                    0   \n",
       "3 -0.82036  2.976912  ...                    0                    0   \n",
       "4 -0.82036  4.369055  ...                    0                    0   \n",
       "\n",
       "   attack_cat-DoS  attack_cat-Exploits  attack_cat-Fuzzers  \\\n",
       "0               0                    0                   0   \n",
       "1               0                    0                   0   \n",
       "2               0                    0                   0   \n",
       "3               0                    0                   0   \n",
       "4               0                    0                   0   \n",
       "\n",
       "   attack_cat-Generic  attack_cat-Normal  attack_cat-Reconnaissance  \\\n",
       "0                   0                  1                          0   \n",
       "1                   0                  1                          0   \n",
       "2                   0                  1                          0   \n",
       "3                   0                  1                          0   \n",
       "4                   0                  1                          0   \n",
       "\n",
       "   attack_cat-Shellcode  attack_cat-Worms  \n",
       "0                     0                 0  \n",
       "1                     0                 0  \n",
       "2                     0                 0  \n",
       "3                     0                 0  \n",
       "4                     0                 0  \n",
       "\n",
       "[5 rows x 201 columns]"
      ]
     },
     "execution_count": 17,
     "metadata": {},
     "output_type": "execute_result"
    }
   ],
   "source": [
    "filtered_test_copy.head()"
   ]
  },
  {
   "cell_type": "code",
   "execution_count": 18,
   "id": "e34494b5-8ff6-44fd-8fca-cd8f15e6d428",
   "metadata": {},
   "outputs": [
    {
     "name": "stdout",
     "output_type": "stream",
     "text": [
      "(175325, 201)\n",
      "(82327, 201)\n"
     ]
    }
   ],
   "source": [
    "print(filtered_train_copy.shape)\n",
    "print(filtered_test_copy.shape)"
   ]
  },
  {
   "cell_type": "code",
   "execution_count": 19,
   "id": "fc0c4865-b252-406f-a44b-1ac47439aa24",
   "metadata": {},
   "outputs": [
    {
     "data": {
      "text/html": [
       "<div>\n",
       "<style scoped>\n",
       "    .dataframe tbody tr th:only-of-type {\n",
       "        vertical-align: middle;\n",
       "    }\n",
       "\n",
       "    .dataframe tbody tr th {\n",
       "        vertical-align: top;\n",
       "    }\n",
       "\n",
       "    .dataframe thead th {\n",
       "        text-align: right;\n",
       "    }\n",
       "</style>\n",
       "<table border=\"1\" class=\"dataframe\">\n",
       "  <thead>\n",
       "    <tr style=\"text-align: right;\">\n",
       "      <th></th>\n",
       "      <th>dur</th>\n",
       "      <th>spkts</th>\n",
       "      <th>dpkts</th>\n",
       "      <th>sbytes</th>\n",
       "      <th>dbytes</th>\n",
       "      <th>rate</th>\n",
       "      <th>sttl</th>\n",
       "      <th>dttl</th>\n",
       "      <th>sload</th>\n",
       "      <th>dload</th>\n",
       "      <th>...</th>\n",
       "      <th>attack_cat-Analysis</th>\n",
       "      <th>attack_cat-Backdoor</th>\n",
       "      <th>attack_cat-DoS</th>\n",
       "      <th>attack_cat-Exploits</th>\n",
       "      <th>attack_cat-Fuzzers</th>\n",
       "      <th>attack_cat-Generic</th>\n",
       "      <th>attack_cat-Normal</th>\n",
       "      <th>attack_cat-Reconnaissance</th>\n",
       "      <th>attack_cat-Shellcode</th>\n",
       "      <th>attack_cat-Worms</th>\n",
       "    </tr>\n",
       "  </thead>\n",
       "  <tbody>\n",
       "    <tr>\n",
       "      <th>0</th>\n",
       "      <td>-0.213729</td>\n",
       "      <td>-0.124458</td>\n",
       "      <td>-0.151819</td>\n",
       "      <td>-0.043685</td>\n",
       "      <td>-0.087371</td>\n",
       "      <td>0.057147</td>\n",
       "      <td>0.71943</td>\n",
       "      <td>-0.82036</td>\n",
       "      <td>0.643870</td>\n",
       "      <td>-0.2635</td>\n",
       "      <td>...</td>\n",
       "      <td>0</td>\n",
       "      <td>0</td>\n",
       "      <td>0</td>\n",
       "      <td>0</td>\n",
       "      <td>0</td>\n",
       "      <td>0</td>\n",
       "      <td>1</td>\n",
       "      <td>0</td>\n",
       "      <td>0</td>\n",
       "      <td>0</td>\n",
       "    </tr>\n",
       "    <tr>\n",
       "      <th>1</th>\n",
       "      <td>-0.213729</td>\n",
       "      <td>-0.124458</td>\n",
       "      <td>-0.151819</td>\n",
       "      <td>-0.036309</td>\n",
       "      <td>-0.087371</td>\n",
       "      <td>0.286524</td>\n",
       "      <td>0.71943</td>\n",
       "      <td>-0.82036</td>\n",
       "      <td>4.539181</td>\n",
       "      <td>-0.2635</td>\n",
       "      <td>...</td>\n",
       "      <td>0</td>\n",
       "      <td>0</td>\n",
       "      <td>0</td>\n",
       "      <td>0</td>\n",
       "      <td>0</td>\n",
       "      <td>0</td>\n",
       "      <td>1</td>\n",
       "      <td>0</td>\n",
       "      <td>0</td>\n",
       "      <td>0</td>\n",
       "    </tr>\n",
       "    <tr>\n",
       "      <th>2</th>\n",
       "      <td>-0.213730</td>\n",
       "      <td>-0.124458</td>\n",
       "      <td>-0.151819</td>\n",
       "      <td>-0.040352</td>\n",
       "      <td>-0.087371</td>\n",
       "      <td>0.791155</td>\n",
       "      <td>0.71943</td>\n",
       "      <td>-0.82036</td>\n",
       "      <td>4.391294</td>\n",
       "      <td>-0.2635</td>\n",
       "      <td>...</td>\n",
       "      <td>0</td>\n",
       "      <td>0</td>\n",
       "      <td>0</td>\n",
       "      <td>0</td>\n",
       "      <td>0</td>\n",
       "      <td>0</td>\n",
       "      <td>1</td>\n",
       "      <td>0</td>\n",
       "      <td>0</td>\n",
       "      <td>0</td>\n",
       "    </tr>\n",
       "    <tr>\n",
       "      <th>3</th>\n",
       "      <td>-0.213730</td>\n",
       "      <td>-0.124458</td>\n",
       "      <td>-0.151819</td>\n",
       "      <td>-0.041331</td>\n",
       "      <td>-0.087371</td>\n",
       "      <td>0.566874</td>\n",
       "      <td>0.71943</td>\n",
       "      <td>-0.82036</td>\n",
       "      <td>2.976912</td>\n",
       "      <td>-0.2635</td>\n",
       "      <td>...</td>\n",
       "      <td>0</td>\n",
       "      <td>0</td>\n",
       "      <td>0</td>\n",
       "      <td>0</td>\n",
       "      <td>0</td>\n",
       "      <td>0</td>\n",
       "      <td>1</td>\n",
       "      <td>0</td>\n",
       "      <td>0</td>\n",
       "      <td>0</td>\n",
       "    </tr>\n",
       "    <tr>\n",
       "      <th>4</th>\n",
       "      <td>-0.213729</td>\n",
       "      <td>-0.124458</td>\n",
       "      <td>-0.151819</td>\n",
       "      <td>-0.034189</td>\n",
       "      <td>-0.087371</td>\n",
       "      <td>0.118314</td>\n",
       "      <td>0.71943</td>\n",
       "      <td>-0.82036</td>\n",
       "      <td>4.369055</td>\n",
       "      <td>-0.2635</td>\n",
       "      <td>...</td>\n",
       "      <td>0</td>\n",
       "      <td>0</td>\n",
       "      <td>0</td>\n",
       "      <td>0</td>\n",
       "      <td>0</td>\n",
       "      <td>0</td>\n",
       "      <td>1</td>\n",
       "      <td>0</td>\n",
       "      <td>0</td>\n",
       "      <td>0</td>\n",
       "    </tr>\n",
       "  </tbody>\n",
       "</table>\n",
       "<p>5 rows × 200 columns</p>\n",
       "</div>"
      ],
      "text/plain": [
       "        dur     spkts     dpkts    sbytes    dbytes      rate     sttl  \\\n",
       "0 -0.213729 -0.124458 -0.151819 -0.043685 -0.087371  0.057147  0.71943   \n",
       "1 -0.213729 -0.124458 -0.151819 -0.036309 -0.087371  0.286524  0.71943   \n",
       "2 -0.213730 -0.124458 -0.151819 -0.040352 -0.087371  0.791155  0.71943   \n",
       "3 -0.213730 -0.124458 -0.151819 -0.041331 -0.087371  0.566874  0.71943   \n",
       "4 -0.213729 -0.124458 -0.151819 -0.034189 -0.087371  0.118314  0.71943   \n",
       "\n",
       "      dttl     sload   dload  ...  attack_cat-Analysis  attack_cat-Backdoor  \\\n",
       "0 -0.82036  0.643870 -0.2635  ...                    0                    0   \n",
       "1 -0.82036  4.539181 -0.2635  ...                    0                    0   \n",
       "2 -0.82036  4.391294 -0.2635  ...                    0                    0   \n",
       "3 -0.82036  2.976912 -0.2635  ...                    0                    0   \n",
       "4 -0.82036  4.369055 -0.2635  ...                    0                    0   \n",
       "\n",
       "   attack_cat-DoS  attack_cat-Exploits  attack_cat-Fuzzers  \\\n",
       "0               0                    0                   0   \n",
       "1               0                    0                   0   \n",
       "2               0                    0                   0   \n",
       "3               0                    0                   0   \n",
       "4               0                    0                   0   \n",
       "\n",
       "   attack_cat-Generic  attack_cat-Normal  attack_cat-Reconnaissance  \\\n",
       "0                   0                  1                          0   \n",
       "1                   0                  1                          0   \n",
       "2                   0                  1                          0   \n",
       "3                   0                  1                          0   \n",
       "4                   0                  1                          0   \n",
       "\n",
       "   attack_cat-Shellcode  attack_cat-Worms  \n",
       "0                     0                 0  \n",
       "1                     0                 0  \n",
       "2                     0                 0  \n",
       "3                     0                 0  \n",
       "4                     0                 0  \n",
       "\n",
       "[5 rows x 200 columns]"
      ]
     },
     "execution_count": 19,
     "metadata": {},
     "output_type": "execute_result"
    }
   ],
   "source": [
    "filtered_train_copy = filtered_train_copy.drop('id', axis=1)\n",
    "filtered_test_copy = filtered_test_copy.drop('id', axis=1)\n",
    "\n",
    "filtered_test_copy.head()"
   ]
  },
  {
   "cell_type": "code",
   "execution_count": 20,
   "id": "4cdb2c0d-02dc-45f5-a87c-80a60037f734",
   "metadata": {},
   "outputs": [],
   "source": [
    "attack_cat1 = encode_text_index(filtered_train_copy, 'label_check')\n",
    "attack_cat2 = encode_text_index(filtered_test_copy, 'label_check')"
   ]
  },
  {
   "cell_type": "code",
   "execution_count": 21,
   "id": "9e414e21-4eea-40fb-8b0a-5f2130bff468",
   "metadata": {},
   "outputs": [],
   "source": [
    "x_train, y_train = to_xy(filtered_train_copy,'label_check')\n",
    "x_test, y_test = to_xy(filtered_test_copy, 'label_check')"
   ]
  },
  {
   "cell_type": "code",
   "execution_count": 22,
   "id": "387a1373-37a5-4e08-8e31-350f1339f142",
   "metadata": {},
   "outputs": [
    {
     "name": "stdout",
     "output_type": "stream",
     "text": [
      "(175325, 199)\n",
      "(175325, 2)\n",
      "(82327, 199)\n",
      "(82327, 2)\n"
     ]
    }
   ],
   "source": [
    "print(x_train.shape)\n",
    "print(y_train.shape)\n",
    "print(x_test.shape)\n",
    "print(y_test.shape)"
   ]
  },
  {
   "cell_type": "code",
   "execution_count": 23,
   "id": "d5691399-7a6a-4829-95bd-d566d1352473",
   "metadata": {},
   "outputs": [
    {
     "name": "stdout",
     "output_type": "stream",
     "text": [
      "[[0. 1.]\n",
      " [0. 1.]\n",
      " [0. 1.]\n",
      " ...\n",
      " [1. 0.]\n",
      " [1. 0.]\n",
      " [1. 0.]]\n"
     ]
    }
   ],
   "source": [
    "print(y_train)"
   ]
  },
  {
   "cell_type": "code",
   "execution_count": 24,
   "id": "a4a882e9-f860-4082-87d1-10eb0ea554f8",
   "metadata": {},
   "outputs": [
    {
     "name": "stdout",
     "output_type": "stream",
     "text": [
      "['Attack' 'Normal']\n"
     ]
    }
   ],
   "source": [
    "print(attack_cat2)"
   ]
  },
  {
   "cell_type": "markdown",
   "id": "1900013f-a8a7-4e50-b396-0a12acb7ff38",
   "metadata": {},
   "source": [
    "#### **Logistic Regression Model**"
   ]
  },
  {
   "cell_type": "code",
   "execution_count": 25,
   "id": "2fd30310-58c8-4d25-8182-17aad07f355a",
   "metadata": {},
   "outputs": [
    {
     "data": {
      "text/plain": [
       "(82327, 200)"
      ]
     },
     "execution_count": 25,
     "metadata": {},
     "output_type": "execute_result"
    }
   ],
   "source": [
    "log_reg_copy_train = filtered_train_copy\n",
    "log_reg_copy_test = filtered_test_copy\n",
    "\n",
    "log_reg_copy_test.shape"
   ]
  },
  {
   "cell_type": "code",
   "execution_count": 26,
   "id": "cf4f6b21-70f5-4a62-82d2-369d045888ba",
   "metadata": {},
   "outputs": [
    {
     "data": {
      "text/html": [
       "<div>\n",
       "<style scoped>\n",
       "    .dataframe tbody tr th:only-of-type {\n",
       "        vertical-align: middle;\n",
       "    }\n",
       "\n",
       "    .dataframe tbody tr th {\n",
       "        vertical-align: top;\n",
       "    }\n",
       "\n",
       "    .dataframe thead th {\n",
       "        text-align: right;\n",
       "    }\n",
       "</style>\n",
       "<table border=\"1\" class=\"dataframe\">\n",
       "  <thead>\n",
       "    <tr style=\"text-align: right;\">\n",
       "      <th></th>\n",
       "      <th>dur</th>\n",
       "      <th>spkts</th>\n",
       "      <th>dpkts</th>\n",
       "      <th>sbytes</th>\n",
       "      <th>dbytes</th>\n",
       "      <th>rate</th>\n",
       "      <th>sttl</th>\n",
       "      <th>dttl</th>\n",
       "      <th>sload</th>\n",
       "      <th>dload</th>\n",
       "      <th>...</th>\n",
       "      <th>attack_cat-Backdoor</th>\n",
       "      <th>attack_cat-DoS</th>\n",
       "      <th>attack_cat-Exploits</th>\n",
       "      <th>attack_cat-Fuzzers</th>\n",
       "      <th>attack_cat-Generic</th>\n",
       "      <th>attack_cat-Normal</th>\n",
       "      <th>attack_cat-Reconnaissance</th>\n",
       "      <th>attack_cat-Shellcode</th>\n",
       "      <th>attack_cat-Worms</th>\n",
       "      <th>label_checks</th>\n",
       "    </tr>\n",
       "  </thead>\n",
       "  <tbody>\n",
       "    <tr>\n",
       "      <th>0</th>\n",
       "      <td>-0.213729</td>\n",
       "      <td>-0.124458</td>\n",
       "      <td>-0.151819</td>\n",
       "      <td>-0.043685</td>\n",
       "      <td>-0.087371</td>\n",
       "      <td>0.057147</td>\n",
       "      <td>0.71943</td>\n",
       "      <td>-0.82036</td>\n",
       "      <td>0.643870</td>\n",
       "      <td>-0.2635</td>\n",
       "      <td>...</td>\n",
       "      <td>0</td>\n",
       "      <td>0</td>\n",
       "      <td>0</td>\n",
       "      <td>0</td>\n",
       "      <td>0</td>\n",
       "      <td>1</td>\n",
       "      <td>0</td>\n",
       "      <td>0</td>\n",
       "      <td>0</td>\n",
       "      <td>1</td>\n",
       "    </tr>\n",
       "    <tr>\n",
       "      <th>1</th>\n",
       "      <td>-0.213729</td>\n",
       "      <td>-0.124458</td>\n",
       "      <td>-0.151819</td>\n",
       "      <td>-0.036309</td>\n",
       "      <td>-0.087371</td>\n",
       "      <td>0.286524</td>\n",
       "      <td>0.71943</td>\n",
       "      <td>-0.82036</td>\n",
       "      <td>4.539181</td>\n",
       "      <td>-0.2635</td>\n",
       "      <td>...</td>\n",
       "      <td>0</td>\n",
       "      <td>0</td>\n",
       "      <td>0</td>\n",
       "      <td>0</td>\n",
       "      <td>0</td>\n",
       "      <td>1</td>\n",
       "      <td>0</td>\n",
       "      <td>0</td>\n",
       "      <td>0</td>\n",
       "      <td>1</td>\n",
       "    </tr>\n",
       "    <tr>\n",
       "      <th>2</th>\n",
       "      <td>-0.213730</td>\n",
       "      <td>-0.124458</td>\n",
       "      <td>-0.151819</td>\n",
       "      <td>-0.040352</td>\n",
       "      <td>-0.087371</td>\n",
       "      <td>0.791155</td>\n",
       "      <td>0.71943</td>\n",
       "      <td>-0.82036</td>\n",
       "      <td>4.391294</td>\n",
       "      <td>-0.2635</td>\n",
       "      <td>...</td>\n",
       "      <td>0</td>\n",
       "      <td>0</td>\n",
       "      <td>0</td>\n",
       "      <td>0</td>\n",
       "      <td>0</td>\n",
       "      <td>1</td>\n",
       "      <td>0</td>\n",
       "      <td>0</td>\n",
       "      <td>0</td>\n",
       "      <td>1</td>\n",
       "    </tr>\n",
       "    <tr>\n",
       "      <th>3</th>\n",
       "      <td>-0.213730</td>\n",
       "      <td>-0.124458</td>\n",
       "      <td>-0.151819</td>\n",
       "      <td>-0.041331</td>\n",
       "      <td>-0.087371</td>\n",
       "      <td>0.566874</td>\n",
       "      <td>0.71943</td>\n",
       "      <td>-0.82036</td>\n",
       "      <td>2.976912</td>\n",
       "      <td>-0.2635</td>\n",
       "      <td>...</td>\n",
       "      <td>0</td>\n",
       "      <td>0</td>\n",
       "      <td>0</td>\n",
       "      <td>0</td>\n",
       "      <td>0</td>\n",
       "      <td>1</td>\n",
       "      <td>0</td>\n",
       "      <td>0</td>\n",
       "      <td>0</td>\n",
       "      <td>1</td>\n",
       "    </tr>\n",
       "    <tr>\n",
       "      <th>4</th>\n",
       "      <td>-0.213729</td>\n",
       "      <td>-0.124458</td>\n",
       "      <td>-0.151819</td>\n",
       "      <td>-0.034189</td>\n",
       "      <td>-0.087371</td>\n",
       "      <td>0.118314</td>\n",
       "      <td>0.71943</td>\n",
       "      <td>-0.82036</td>\n",
       "      <td>4.369055</td>\n",
       "      <td>-0.2635</td>\n",
       "      <td>...</td>\n",
       "      <td>0</td>\n",
       "      <td>0</td>\n",
       "      <td>0</td>\n",
       "      <td>0</td>\n",
       "      <td>0</td>\n",
       "      <td>1</td>\n",
       "      <td>0</td>\n",
       "      <td>0</td>\n",
       "      <td>0</td>\n",
       "      <td>1</td>\n",
       "    </tr>\n",
       "  </tbody>\n",
       "</table>\n",
       "<p>5 rows × 201 columns</p>\n",
       "</div>"
      ],
      "text/plain": [
       "        dur     spkts     dpkts    sbytes    dbytes      rate     sttl  \\\n",
       "0 -0.213729 -0.124458 -0.151819 -0.043685 -0.087371  0.057147  0.71943   \n",
       "1 -0.213729 -0.124458 -0.151819 -0.036309 -0.087371  0.286524  0.71943   \n",
       "2 -0.213730 -0.124458 -0.151819 -0.040352 -0.087371  0.791155  0.71943   \n",
       "3 -0.213730 -0.124458 -0.151819 -0.041331 -0.087371  0.566874  0.71943   \n",
       "4 -0.213729 -0.124458 -0.151819 -0.034189 -0.087371  0.118314  0.71943   \n",
       "\n",
       "      dttl     sload   dload  ...  attack_cat-Backdoor  attack_cat-DoS  \\\n",
       "0 -0.82036  0.643870 -0.2635  ...                    0               0   \n",
       "1 -0.82036  4.539181 -0.2635  ...                    0               0   \n",
       "2 -0.82036  4.391294 -0.2635  ...                    0               0   \n",
       "3 -0.82036  2.976912 -0.2635  ...                    0               0   \n",
       "4 -0.82036  4.369055 -0.2635  ...                    0               0   \n",
       "\n",
       "   attack_cat-Exploits  attack_cat-Fuzzers  attack_cat-Generic  \\\n",
       "0                    0                   0                   0   \n",
       "1                    0                   0                   0   \n",
       "2                    0                   0                   0   \n",
       "3                    0                   0                   0   \n",
       "4                    0                   0                   0   \n",
       "\n",
       "   attack_cat-Normal  attack_cat-Reconnaissance  attack_cat-Shellcode  \\\n",
       "0                  1                          0                     0   \n",
       "1                  1                          0                     0   \n",
       "2                  1                          0                     0   \n",
       "3                  1                          0                     0   \n",
       "4                  1                          0                     0   \n",
       "\n",
       "   attack_cat-Worms  label_checks  \n",
       "0                 0             1  \n",
       "1                 0             1  \n",
       "2                 0             1  \n",
       "3                 0             1  \n",
       "4                 0             1  \n",
       "\n",
       "[5 rows x 201 columns]"
      ]
     },
     "execution_count": 26,
     "metadata": {},
     "output_type": "execute_result"
    }
   ],
   "source": [
    "label_encoder = LabelEncoder()\n",
    "log_reg_copy_train['label_checks'] = label_encoder.fit_transform(log_reg_copy_train['label_check'])\n",
    "log_reg_copy_test['label_checks'] = label_encoder.fit_transform(log_reg_copy_test['label_check'])\n",
    "log_reg_copy_test.head()"
   ]
  },
  {
   "cell_type": "code",
   "execution_count": 27,
   "id": "d00775aa-8cf1-4a5e-bd2a-ad1a473931bc",
   "metadata": {},
   "outputs": [],
   "source": [
    "log_reg_copy_train['label_checks'] = log_reg_copy_train['label_checks'].replace(0,2)\n",
    "log_reg_copy_train['label_checks'] = log_reg_copy_train['label_checks'].replace(1,0)\n",
    "log_reg_copy_train['label_checks'] = log_reg_copy_train['label_checks'].replace(2,1)\n",
    "\n",
    "log_reg_copy_test['label_checks'] = log_reg_copy_test['label_checks'].replace(0,2)\n",
    "log_reg_copy_test['label_checks'] = log_reg_copy_test['label_checks'].replace(1,0)\n",
    "log_reg_copy_test['label_checks'] = log_reg_copy_test['label_checks'].replace(2,1)"
   ]
  },
  {
   "cell_type": "code",
   "execution_count": 28,
   "id": "f6295591-3c90-4a90-b418-a6038b2415f6",
   "metadata": {},
   "outputs": [],
   "source": [
    "# log_reg_copy_train.to_csv('tesasdf.csv', sep=',', index=False)"
   ]
  },
  {
   "cell_type": "code",
   "execution_count": 29,
   "id": "2c6966a8-dbf7-4c44-9911-9233dead3bcc",
   "metadata": {},
   "outputs": [],
   "source": [
    "log_y_train = log_reg_copy_train['label_checks'].values\n",
    "log_y_test = log_reg_copy_test['label_checks'].values"
   ]
  },
  {
   "cell_type": "code",
   "execution_count": 30,
   "id": "10c1d8e1-b606-4beb-9bc1-632fdbc70fb0",
   "metadata": {},
   "outputs": [
    {
     "name": "stdout",
     "output_type": "stream",
     "text": [
      "[0 0 0 ... 1 1 1]\n",
      "[0 0 0 ... 0 0 0]\n"
     ]
    }
   ],
   "source": [
    "print(log_y_train)\n",
    "print(log_y_test)"
   ]
  },
  {
   "cell_type": "code",
   "execution_count": 31,
   "id": "bd546fff-3496-4d7f-9170-b6839073f7dc",
   "metadata": {},
   "outputs": [
    {
     "name": "stdout",
     "output_type": "stream",
     "text": [
      "(175325,)\n",
      "(82327,)\n"
     ]
    }
   ],
   "source": [
    "print(log_y_train.shape)\n",
    "print(log_y_test.shape)"
   ]
  },
  {
   "cell_type": "code",
   "execution_count": 32,
   "id": "c44df21b-ee8c-4760-8ea2-4e9585420b6a",
   "metadata": {},
   "outputs": [
    {
     "data": {
      "text/plain": [
       "array([0, 0, 0, ..., 0, 0, 0], dtype=int64)"
      ]
     },
     "execution_count": 32,
     "metadata": {},
     "output_type": "execute_result"
    }
   ],
   "source": [
    "logreg = LogisticRegression(solver='lbfgs', multi_class='ovr')\n",
    "logreg.fit(x_train, log_y_train)\n",
    "logreg.predict(x_test)"
   ]
  },
  {
   "cell_type": "code",
   "execution_count": 33,
   "id": "e173070a-1540-4753-a895-5842b6e237bd",
   "metadata": {},
   "outputs": [
    {
     "name": "stdout",
     "output_type": "stream",
     "text": [
      "Final accuracy: 1.0\n"
     ]
    }
   ],
   "source": [
    "log_pred = logreg.predict(x_test)\n",
    "score = metrics.accuracy_score(log_y_test, log_pred)\n",
    "print(\"Final accuracy: {}\".format(score))"
   ]
  },
  {
   "cell_type": "code",
   "execution_count": 34,
   "id": "268b74b1-e3ef-40ff-9382-ddb924db3643",
   "metadata": {},
   "outputs": [
    {
     "name": "stdout",
     "output_type": "stream",
     "text": [
      "[[36998     0]\n",
      " [    0 45329]]\n"
     ]
    },
    {
     "data": {
      "image/png": "[encoded data removed]",
      "text/plain": [
       "<Figure size 640x480 with 2 Axes>"
      ]
     },
     "metadata": {},
     "output_type": "display_data"
    },
    {
     "name": "stdout",
     "output_type": "stream",
     "text": [
      "              precision    recall  f1-score   support\n",
      "\n",
      "           0       1.00      1.00      1.00     36998\n",
      "           1       1.00      1.00      1.00     45329\n",
      "\n",
      "    accuracy                           1.00     82327\n",
      "   macro avg       1.00      1.00      1.00     82327\n",
      "weighted avg       1.00      1.00      1.00     82327\n",
      "\n"
     ]
    }
   ],
   "source": [
    "logistic_matrix = confusion_matrix (log_y_test, log_pred)\n",
    "print(logistic_matrix)\n",
    "plt.figure()\n",
    "plot_confusion_matrix(logistic_matrix, attack_cat2)\n",
    "plt.show()\n",
    "print(classification_report(log_y_test, log_pred))"
   ]
  },
  {
   "cell_type": "code",
   "execution_count": 35,
   "id": "6f605bc9-7858-4ae9-a5a8-9e5107bf58e8",
   "metadata": {},
   "outputs": [],
   "source": [
    "# log_pred = logreg.predict(x_test)\n",
    "# log_pred = log_pred[:,1] # Only positive class (M)\n",
    "# plot_roc(log_pred,y_true)"
   ]
  },
  {
   "cell_type": "markdown",
   "id": "5faf91a2-c36f-4400-9831-bf6bbc86e670",
   "metadata": {},
   "source": [
    "#### **Support Vector Machine Model**"
   ]
  },
  {
   "cell_type": "code",
   "execution_count": 36,
   "id": "5b114e7d-0278-43d8-955e-d434196244d6",
   "metadata": {},
   "outputs": [],
   "source": [
    "# svc_class = svm.SVC(decision_function_shape='ovo')\n",
    "# svc_class.fit(x_train, log_y_train)\n",
    "# svm_pred = svc_class.pred(x_test)\n"
   ]
  },
  {
   "cell_type": "markdown",
   "id": "090d1973-c04f-48b7-a00b-68b0810a6388",
   "metadata": {},
   "source": [
    "#### **Fully-Connected Neural Networks Model**"
   ]
  },
  {
   "cell_type": "code",
   "execution_count": 37,
   "id": "ec217012-9ed6-4c25-88d6-621e2526df4b",
   "metadata": {},
   "outputs": [
    {
     "name": "stdout",
     "output_type": "stream",
     "text": [
      "{('relu', 'adam'): 'dnn/best_weights_cnn_rluadam.hdf5', ('sigmoid', 'adam'): 'dnn/best_weights_cnn_sigadam.hdf5', ('tanh', 'adam'): 'dnn/best_weights_cnn_tanhadam.hdf5', ('relu', 'sgd'): 'dnn/best_weights_cnn_rluasgd.hdf5', ('sigmoid', 'sgd'): 'dnn/best_weights_cnn_sigsgd.hdf5', ('tanh', 'sgd'): 'dnn/best_weights_cnn_tanhsgd.hdf5'}\n"
     ]
    }
   ],
   "source": [
    "combinations = [\n",
    "    ('relu', 'adam'),\n",
    "    ('sigmoid', 'adam'),\n",
    "    ('tanh', 'adam'),\n",
    "    ('relu', 'sgd'),\n",
    "    ('sigmoid', 'sgd'),\n",
    "    ('tanh', 'sgd')\n",
    "]\n",
    "\n",
    "\n",
    "\n",
    "checkpoints = {\n",
    "    \n",
    "}\n",
    "\n",
    "checkpoints_cnn = {\n",
    "    \n",
    "}\n",
    "\n",
    "\n",
    "filepath = \"dnn/best_weights_\"\n",
    "for i in range(2):\n",
    "    \n",
    "    if i == 0:\n",
    "        for j in range(len(combinations)):\n",
    "            # print(j)\n",
    "            model = combinations[j]\n",
    "            if model == ('relu', 'adam'):\n",
    "                checkpoints[model] = filepath + 'fnn_rluadam.hdf5'\n",
    "            if model == ('sigmoid', 'adam'):\n",
    "                checkpoints[model] = filepath + 'fnn_sigadam.hdf5'\n",
    "            if model == ('tanh', 'adam'):\n",
    "                checkpoints[model] = filepath + 'fnn_tanhadam.hdf5'\n",
    "            if model == ('relu', 'sgd'):\n",
    "                checkpoints[model] = filepath + 'fnn_rluasgd.hdf5'\n",
    "            if model == ('sigmoid', 'sgd'):\n",
    "                checkpoints[model] = filepath + 'fnn_sigsgd.hdf5'\n",
    "            if model == ('tanh', 'sgd'):\n",
    "                checkpoints[model] = filepath + 'fnn_tanhsgd.hdf5'\n",
    "    if i == 1:\n",
    "        for k in range(len(combinations)):\n",
    "            # print(k)\n",
    "            model = combinations[k]\n",
    "            if model == ('relu', 'adam'):\n",
    "                checkpoints_cnn[model] = filepath + 'cnn_rluadam.hdf5'\n",
    "            if model == ('sigmoid', 'adam'):\n",
    "                checkpoints_cnn[model] = filepath + 'cnn_sigadam.hdf5'\n",
    "            if model == ('tanh', 'adam'):\n",
    "                checkpoints_cnn[model] = filepath + 'cnn_tanhadam.hdf5'\n",
    "            if model == ('relu', 'sgd'):\n",
    "                checkpoints_cnn[model] = filepath + 'cnn_rluasgd.hdf5'\n",
    "            if model == ('sigmoid', 'sgd'):\n",
    "                checkpoints_cnn[model] = filepath + 'cnn_sigsgd.hdf5'\n",
    "            if model == ('tanh', 'sgd'):\n",
    "                checkpoints_cnn[model] =filepath + 'cnn_tanhsgd.hdf5'\n",
    "        \n",
    "print(checkpoints_cnn)"
   ]
  },
  {
   "cell_type": "code",
   "execution_count": 38,
   "id": "efbfb920-2385-43de-aaf3-e7dd4cea1472",
   "metadata": {},
   "outputs": [
    {
     "name": "stdout",
     "output_type": "stream",
     "text": [
      "199\n"
     ]
    }
   ],
   "source": [
    "neuron_count = x_train.shape[1]\n",
    "div = 3\n",
    "print(neuron_count)\n",
    "\n",
    "result_values = [\n",
    "\n",
    "]"
   ]
  },
  {
   "cell_type": "code",
   "execution_count": 39,
   "id": "0d37dc17-7275-4b87-8e10-cb68197effd5",
   "metadata": {
    "scrolled": true
   },
   "outputs": [
    {
     "name": "stdout",
     "output_type": "stream",
     "text": [
      "('relu', 'adam')\n",
      "dnn/best_weights_fnn_rluadam.hdf5\n",
      "Epoch 1/1000\n",
      "5479/5479 [==============================] - 19s 3ms/step - loss: 0.0039 - val_loss: 2.6278e-04\n",
      "Epoch 2/1000\n",
      "5479/5479 [==============================] - 20s 4ms/step - loss: 5.3151e-04 - val_loss: 1.5219e-04\n",
      "Epoch 3/1000\n",
      "5479/5479 [==============================] - 22s 4ms/step - loss: 5.7335e-04 - val_loss: 1.2901e-04\n",
      "Epoch 3: early stopping\n",
      "2573/2573 [==============================] - 3s 1ms/step\n",
      "('sigmoid', 'adam')\n",
      "dnn/best_weights_fnn_sigadam.hdf5\n",
      "Epoch 1/1000\n",
      "5479/5479 [==============================] - 22s 4ms/step - loss: 0.0116 - val_loss: 1.2496e-04\n",
      "Epoch 2/1000\n",
      "5479/5479 [==============================] - 21s 4ms/step - loss: 3.4513e-04 - val_loss: 1.3472e-04\n",
      "Epoch 3/1000\n",
      "5479/5479 [==============================] - 20s 4ms/step - loss: 1.5556e-04 - val_loss: 0.0295\n",
      "Epoch 3: early stopping\n",
      "2573/2573 [==============================] - 3s 1ms/step\n",
      "('tanh', 'adam')\n",
      "dnn/best_weights_fnn_tanhadam.hdf5\n",
      "Epoch 1/1000\n",
      "5479/5479 [==============================] - 22s 4ms/step - loss: 0.0023 - val_loss: 0.0037\n",
      "Epoch 2/1000\n",
      "5479/5479 [==============================] - 22s 4ms/step - loss: 3.2376e-04 - val_loss: 5.1860e-05\n",
      "Epoch 3/1000\n",
      "5479/5479 [==============================] - 21s 4ms/step - loss: 2.4458e-04 - val_loss: 2.7150e-05\n",
      "Epoch 4/1000\n",
      "5479/5479 [==============================] - 21s 4ms/step - loss: 2.2386e-04 - val_loss: 1.6752e-04\n",
      "Epoch 4: early stopping\n",
      "2573/2573 [==============================] - 3s 1ms/step\n",
      "('relu', 'sgd')\n",
      "dnn/best_weights_fnn_rluasgd.hdf5\n",
      "Epoch 1/1000\n",
      "5479/5479 [==============================] - 21s 4ms/step - loss: 0.0042 - val_loss: 1.5380e-04\n",
      "Epoch 2/1000\n",
      "5479/5479 [==============================] - 21s 4ms/step - loss: 2.0324e-04 - val_loss: 0.0679\n",
      "Epoch 3/1000\n",
      "5479/5479 [==============================] - 21s 4ms/step - loss: 0.0012 - val_loss: 0.0023\n",
      "Epoch 3: early stopping\n",
      "2573/2573 [==============================] - 3s 1ms/step\n",
      "('sigmoid', 'sgd')\n",
      "dnn/best_weights_fnn_sigsgd.hdf5\n",
      "Epoch 1/1000\n",
      "5479/5479 [==============================] - 22s 4ms/step - loss: 0.0112 - val_loss: 8.9942e-05\n",
      "Epoch 2/1000\n",
      "5479/5479 [==============================] - 22s 4ms/step - loss: 1.1970e-04 - val_loss: 1.0019e-05\n",
      "Epoch 3/1000\n",
      "5479/5479 [==============================] - 21s 4ms/step - loss: 2.6314e-06 - val_loss: 1.1665e-06\n",
      "Epoch 3: early stopping\n",
      "2573/2573 [==============================] - 3s 1ms/step\n",
      "('tanh', 'sgd')\n",
      "dnn/best_weights_fnn_tanhsgd.hdf5\n",
      "Epoch 1/1000\n",
      "5479/5479 [==============================] - 22s 4ms/step - loss: 0.0026 - val_loss: 7.0161e-04\n",
      "Epoch 2/1000\n",
      "5479/5479 [==============================] - 22s 4ms/step - loss: 3.8311e-04 - val_loss: 0.0023\n",
      "Epoch 3/1000\n",
      "5479/5479 [==============================] - 22s 4ms/step - loss: 2.7081e-04 - val_loss: 4.4435e-04\n",
      "Epoch 3: early stopping\n",
      "2573/2573 [==============================] - 3s 1ms/step\n"
     ]
    }
   ],
   "source": [
    "for i in range(len(combinations)):\n",
    "    model_comp = combinations[i]\n",
    "    print(model_comp)\n",
    "    checkpointer = ModelCheckpoint(filepath=checkpoints[model_comp], verbose=0, save_best_only=True)\n",
    "    print(checkpoints[model_comp])\n",
    "    model = Sequential()\n",
    "    for j in range(1):\n",
    "        \n",
    "        model.add(Dense(neuron_count, input_dim=x_train.shape[1],activation=model_comp[0]))\n",
    "        model.add(Dense(neuron_count/div, activation=model_comp[0]))\n",
    "        model.add(Dense(neuron_count/(div*2), activation=model_comp[0]))\n",
    "        model.add(Dense(y_train.shape[1], activation='softmax'))\n",
    "        model.compile(loss='categorical_crossentropy', optimizer=Adam(0.001))\n",
    "        \n",
    "        monitor = EarlyStopping(monitor='val_loss', min_delta=1e-3, patience=2, verbose=1, mode='auto')\n",
    "        model.fit(x_train,y_train,validation_data=(x_test,y_test),callbacks=[monitor,checkpointer],verbose=1,epochs=1000)\n",
    "    model.load_weights(checkpoints[model_comp])\n",
    "    pred = model.predict(x_test)\n",
    "    pred = np.argmax(pred,axis=1)\n",
    "    \n",
    "    y_true = np.argmax(y_test,axis=1)\n",
    "    score = metrics.accuracy_score(y_true,pred)\n",
    "    cm = confusion_matrix(y_true, pred)\n",
    "    \n",
    "    \n",
    "    result = (model_comp, pred, y_true, score, cm)\n",
    "    \n",
    "    result_values.append(result)\n",
    "    \n",
    "    "
   ]
  },
  {
   "cell_type": "markdown",
   "id": "3d31b432-4151-4846-8bc9-87e9db9a6caf",
   "metadata": {},
   "source": [
    "#### **FNN RELU_ADAM MODEL**"
   ]
  },
  {
   "cell_type": "code",
   "execution_count": 40,
   "id": "ebdc88c5-2301-44bf-9104-3e5d55ba3a62",
   "metadata": {},
   "outputs": [
    {
     "data": {
      "image/png": "[encoded data removed]",
      "text/plain": [
       "<Figure size 640x480 with 2 Axes>"
      ]
     },
     "metadata": {},
     "output_type": "display_data"
    },
    {
     "name": "stdout",
     "output_type": "stream",
     "text": [
      "              precision    recall  f1-score   support\n",
      "\n",
      "           0       1.00      1.00      1.00     45329\n",
      "           1       1.00      1.00      1.00     36998\n",
      "\n",
      "    accuracy                           1.00     82327\n",
      "   macro avg       1.00      1.00      1.00     82327\n",
      "weighted avg       1.00      1.00      1.00     82327\n",
      "\n"
     ]
    }
   ],
   "source": [
    "relu_adam = result_values[0]\n",
    "relu_adam_pred = relu_adam[1]\n",
    "relu_adam_y_true = relu_adam[2]\n",
    "\n",
    "relu_adam_score = relu_adam[3]\n",
    "relu_adam_cm = relu_adam[4]\n",
    "\n",
    "plt.figure()\n",
    "plot_confusion_matrix(relu_adam_cm, attack_cat2)\n",
    "plt.show()\n",
    "print(classification_report(relu_adam_y_true,relu_adam_pred))"
   ]
  },
  {
   "cell_type": "code",
   "execution_count": 41,
   "id": "8d31c5e3-1de3-4f4d-9bb1-30f9266371ef",
   "metadata": {},
   "outputs": [],
   "source": [
    "# relu_adam_pred = relu_adam_pred[:,1] # Only positive class (M)\n",
    "# plot_roc(relu_adam_pred,)"
   ]
  },
  {
   "cell_type": "markdown",
   "id": "539248a4-a215-4c4b-98c9-52095a0de789",
   "metadata": {},
   "source": [
    "#### **FNN SIGMOID ADAM MODEL**"
   ]
  },
  {
   "cell_type": "code",
   "execution_count": 42,
   "id": "55d56bc0-080b-47fc-a026-1945f3ff26c2",
   "metadata": {},
   "outputs": [
    {
     "data": {
      "image/png": "[encoded data removed]",
      "text/plain": [
       "<Figure size 640x480 with 2 Axes>"
      ]
     },
     "metadata": {},
     "output_type": "display_data"
    },
    {
     "name": "stdout",
     "output_type": "stream",
     "text": [
      "              precision    recall  f1-score   support\n",
      "\n",
      "           0       1.00      1.00      1.00     45329\n",
      "           1       1.00      1.00      1.00     36998\n",
      "\n",
      "    accuracy                           1.00     82327\n",
      "   macro avg       1.00      1.00      1.00     82327\n",
      "weighted avg       1.00      1.00      1.00     82327\n",
      "\n"
     ]
    }
   ],
   "source": [
    "sig_adam = result_values[1]\n",
    "sig_adam_pred = sig_adam[1]\n",
    "sig_adam_y_true = sig_adam[2]\n",
    "sig_adam_score = sig_adam[3]\n",
    "sig_adam_cm = sig_adam[4]\n",
    "\n",
    "plt.figure()\n",
    "plot_confusion_matrix(sig_adam_cm, attack_cat2)\n",
    "plt.show()\n",
    "print(classification_report(sig_adam_y_true,sig_adam_pred))"
   ]
  },
  {
   "cell_type": "markdown",
   "id": "18ed3bdc-8b09-4dc7-b13e-f13ab1514a6f",
   "metadata": {},
   "source": [
    "#### **FNN TANH ADAM MODEL**"
   ]
  },
  {
   "cell_type": "code",
   "execution_count": 43,
   "id": "6e97208f-3568-42c2-95bd-149c6c771b08",
   "metadata": {},
   "outputs": [
    {
     "data": {
      "image/png": "[encoded data removed]",
      "text/plain": [
       "<Figure size 640x480 with 2 Axes>"
      ]
     },
     "metadata": {},
     "output_type": "display_data"
    },
    {
     "name": "stdout",
     "output_type": "stream",
     "text": [
      "              precision    recall  f1-score   support\n",
      "\n",
      "           0       1.00      1.00      1.00     45329\n",
      "           1       1.00      1.00      1.00     36998\n",
      "\n",
      "    accuracy                           1.00     82327\n",
      "   macro avg       1.00      1.00      1.00     82327\n",
      "weighted avg       1.00      1.00      1.00     82327\n",
      "\n"
     ]
    }
   ],
   "source": [
    "tanh_adam = result_values[2]\n",
    "tanh_adam_pred = tanh_adam[1]\n",
    "tanh_adam_y_true = tanh_adam[2]\n",
    "tanh_adam_score = tanh_adam[3]\n",
    "tanh_adam_cm = tanh_adam[4]\n",
    "\n",
    "plt.figure()\n",
    "plot_confusion_matrix(tanh_adam_cm, attack_cat2)\n",
    "plt.show()\n",
    "print(classification_report(tanh_adam_y_true,tanh_adam_pred))"
   ]
  },
  {
   "cell_type": "markdown",
   "id": "eac55d01-f5e0-49b2-a37d-17cf1e753ab8",
   "metadata": {},
   "source": [
    "#### **FNN RELU SGD MODEL**"
   ]
  },
  {
   "cell_type": "code",
   "execution_count": 44,
   "id": "53946002-371d-4c97-b4f3-2ddb88221c7c",
   "metadata": {},
   "outputs": [
    {
     "data": {
      "image/png": "[encoded data removed]",
      "text/plain": [
       "<Figure size 640x480 with 2 Axes>"
      ]
     },
     "metadata": {},
     "output_type": "display_data"
    },
    {
     "name": "stdout",
     "output_type": "stream",
     "text": [
      "              precision    recall  f1-score   support\n",
      "\n",
      "           0       1.00      1.00      1.00     45329\n",
      "           1       1.00      1.00      1.00     36998\n",
      "\n",
      "    accuracy                           1.00     82327\n",
      "   macro avg       1.00      1.00      1.00     82327\n",
      "weighted avg       1.00      1.00      1.00     82327\n",
      "\n"
     ]
    }
   ],
   "source": [
    "relu_sgd = result_values[3]\n",
    "relu_sgd_pred = relu_sgd[1]\n",
    "relu_sgd_y_true = relu_sgd[2]\n",
    "relu_sgd_score = relu_sgd[3]\n",
    "relu_sgd_cm = relu_sgd[4]\n",
    "\n",
    "plt.figure()\n",
    "plot_confusion_matrix(relu_sgd_cm, attack_cat2)\n",
    "plt.show()\n",
    "print(classification_report(relu_sgd_y_true,relu_sgd_pred))"
   ]
  },
  {
   "cell_type": "markdown",
   "id": "0e622ea0-79aa-49ae-a4b1-8481b979b8ab",
   "metadata": {},
   "source": [
    "#### **FNN SIGMOID SGD MODEL**"
   ]
  },
  {
   "cell_type": "code",
   "execution_count": 45,
   "id": "0989fffa-e831-4163-9017-b945e874c5a0",
   "metadata": {},
   "outputs": [
    {
     "data": {
      "image/png": "[encoded data removed]",
      "text/plain": [
       "<Figure size 640x480 with 2 Axes>"
      ]
     },
     "metadata": {},
     "output_type": "display_data"
    },
    {
     "name": "stdout",
     "output_type": "stream",
     "text": [
      "              precision    recall  f1-score   support\n",
      "\n",
      "           0       1.00      1.00      1.00     45329\n",
      "           1       1.00      1.00      1.00     36998\n",
      "\n",
      "    accuracy                           1.00     82327\n",
      "   macro avg       1.00      1.00      1.00     82327\n",
      "weighted avg       1.00      1.00      1.00     82327\n",
      "\n"
     ]
    }
   ],
   "source": [
    "sig_sgd = result_values[4]\n",
    "sig_sgd_pred = sig_sgd[1]\n",
    "sig_sgd_y_true = sig_sgd[2]\n",
    "sig_sgd_score = sig_sgd[3]\n",
    "sig_sgd_cm = sig_sgd[4]\n",
    "\n",
    "plt.figure()\n",
    "plot_confusion_matrix(sig_sgd_cm, attack_cat2)\n",
    "plt.show()\n",
    "print(classification_report(sig_sgd_y_true,sig_sgd_pred))"
   ]
  },
  {
   "cell_type": "markdown",
   "id": "a71ca1da-6ee9-4e0b-8793-cf55062e8e36",
   "metadata": {},
   "source": [
    "#### **FNN TANH SGD MODEL**"
   ]
  },
  {
   "cell_type": "code",
   "execution_count": 46,
   "id": "5943acd4-fb55-4eb6-8b16-a79d9e402626",
   "metadata": {},
   "outputs": [
    {
     "data": {
      "image/png": "[encoded data removed]",
      "text/plain": [
       "<Figure size 640x480 with 2 Axes>"
      ]
     },
     "metadata": {},
     "output_type": "display_data"
    },
    {
     "name": "stdout",
     "output_type": "stream",
     "text": [
      "              precision    recall  f1-score   support\n",
      "\n",
      "           0       1.00      1.00      1.00     45329\n",
      "           1       1.00      1.00      1.00     36998\n",
      "\n",
      "    accuracy                           1.00     82327\n",
      "   macro avg       1.00      1.00      1.00     82327\n",
      "weighted avg       1.00      1.00      1.00     82327\n",
      "\n"
     ]
    }
   ],
   "source": [
    "tanh_sgd = result_values[5]\n",
    "tanh_sgd_pred = tanh_sgd[1]\n",
    "tanh_sgd_y_true = tanh_sgd[2]\n",
    "tanh_sgd_score = tanh_sgd[3]\n",
    "tanh_sgd_cm = tanh_sgd[4]\n",
    "\n",
    "plt.figure()\n",
    "plot_confusion_matrix(tanh_sgd_cm, attack_cat2)\n",
    "plt.show()\n",
    "print(classification_report(tanh_sgd_y_true,tanh_sgd_pred))"
   ]
  },
  {
   "cell_type": "markdown",
   "id": "4125df7d-75af-41a4-a522-98595c25b1ac",
   "metadata": {},
   "source": [
    "#### **CNN MODEL RELU AND ADAM**"
   ]
  },
  {
   "cell_type": "code",
   "execution_count": 47,
   "id": "3fb9cfe2-15e5-427f-94e8-3258378a6146",
   "metadata": {},
   "outputs": [],
   "source": [
    "num_classes = 10\n",
    "cnn_x_train = x_train.reshape((x_train.shape[0], 1, x_train.shape[1], 1))\n",
    "cnn_x_test = x_test.reshape((x_test.shape[0], 1, x_test.shape[1], 1))\n",
    "num_features=x_train.shape[1]\n",
    "cnn_y_true = np.argmax(y_test,axis=1)\n",
    "cnn_scores = []\n",
    "batch_size = 32"
   ]
  },
  {
   "cell_type": "code",
   "execution_count": 48,
   "id": "035dc6ab-47fc-4d16-8c63-1b4b0c848a8a",
   "metadata": {},
   "outputs": [
    {
     "name": "stdout",
     "output_type": "stream",
     "text": [
      "Epoch 1/1000\n",
      "5479/5479 [==============================] - ETA: 0s - loss: 0.0063\n",
      "Epoch 1: val_loss improved from inf to 0.00025, saving model to dnn\\best_weights_cnn_reluadam.hdf5\n",
      "5479/5479 [==============================] - 26s 4ms/step - loss: 0.0063 - val_loss: 2.5192e-04\n",
      "Epoch 2/1000\n",
      "5478/5479 [============================>.] - ETA: 0s - loss: 2.3668e-04\n",
      "Epoch 2: val_loss improved from 0.00025 to 0.00000, saving model to dnn\\best_weights_cnn_reluadam.hdf5\n",
      "5479/5479 [==============================] - 22s 4ms/step - loss: 2.3664e-04 - val_loss: 1.4205e-08\n",
      "Epoch 3/1000\n",
      "5479/5479 [==============================] - ETA: 0s - loss: 7.8442e-05\n",
      "Epoch 3: val_loss improved from 0.00000 to 0.00000, saving model to dnn\\best_weights_cnn_reluadam.hdf5\n",
      "5479/5479 [==============================] - 23s 4ms/step - loss: 7.8442e-05 - val_loss: 1.3321e-09\n",
      "Epoch 3: early stopping\n"
     ]
    },
    {
     "data": {
      "text/plain": [
       "<keras.callbacks.History at 0x2c83ea2bf70>"
      ]
     },
     "execution_count": 48,
     "metadata": {},
     "output_type": "execute_result"
    }
   ],
   "source": [
    "checkpointer_cnn = ModelCheckpoint(filepath=\"dnn/best_weights_cnn_reluadam.hdf5\", verbose=1, save_best_only=True)\n",
    "cnn = Sequential()\n",
    "cnn.add(Conv2D(16, kernel_size=(1, 3), strides=(1, 1),\n",
    "                 activation='relu',\n",
    "                 input_shape=(1, 199, 1)))\n",
    "\n",
    "cnn.add(MaxPooling2D(pool_size=(1,2)))\n",
    "\n",
    "cnn.add(Conv2D(32, kernel_size=(1, 3), strides=(1, 1),\n",
    "                 activation='relu'))\n",
    "cnn.add(MaxPooling2D(pool_size=(1,2)))\n",
    "\n",
    "cnn.add(Flatten())\n",
    "cnn.add(Dense(64, activation=\"relu\"))\n",
    "cnn.add(Dropout(0.5))\n",
    "cnn.add(Dense(2, activation=\"softmax\"))\n",
    "\n",
    "cnn.compile(loss=\"categorical_crossentropy\", optimizer=\"adam\")\n",
    "\n",
    "cnn.fit(cnn_x_train, y_train,     \n",
    "          batch_size=batch_size,\n",
    "          epochs=1000,\n",
    "          verbose=1,\n",
    "          validation_data=(cnn_x_test, y_test),\n",
    "          callbacks=[monitor, checkpointer_cnn]\n",
    "         )"
   ]
  },
  {
   "cell_type": "code",
   "execution_count": 49,
   "id": "7211b2a0-56f2-47f9-931a-2ede3c6e8ce7",
   "metadata": {},
   "outputs": [
    {
     "name": "stdout",
     "output_type": "stream",
     "text": [
      "2573/2573 [==============================] - 3s 1ms/step\n",
      "Accuracy: 1.0\n"
     ]
    },
    {
     "data": {
      "image/png": "[encoded data removed]",
      "text/plain": [
       "<Figure size 640x480 with 2 Axes>"
      ]
     },
     "metadata": {},
     "output_type": "display_data"
    },
    {
     "name": "stdout",
     "output_type": "stream",
     "text": [
      "              precision    recall  f1-score   support\n",
      "\n",
      "           0       1.00      1.00      1.00     45329\n",
      "           1       1.00      1.00      1.00     36998\n",
      "\n",
      "    accuracy                           1.00     82327\n",
      "   macro avg       1.00      1.00      1.00     82327\n",
      "weighted avg       1.00      1.00      1.00     82327\n",
      "\n"
     ]
    }
   ],
   "source": [
    "cnn.load_weights('dnn/best_weights_cnn_reluadam.hdf5')\n",
    "\n",
    "pred = cnn.predict(cnn_x_test)\n",
    "pred = np.argmax(pred,axis=1)\n",
    "score = metrics.accuracy_score(cnn_y_true, pred)\n",
    "print('Accuracy: {}'.format(score))\n",
    "\n",
    "cnn_cm = confusion_matrix(cnn_y_true, pred)\n",
    "cnn_scores.append( ('reluadam', score))\n",
    "plt.figure()\n",
    "plot_confusion_matrix(cnn_cm, attack_cat2)\n",
    "plt.show()\n",
    "print(classification_report(cnn_y_true,pred))"
   ]
  },
  {
   "cell_type": "code",
   "execution_count": 50,
   "id": "7687707a-7cbd-45b9-aaa9-062ddaa1333c",
   "metadata": {},
   "outputs": [
    {
     "name": "stdout",
     "output_type": "stream",
     "text": [
      "2573/2573 [==============================] - 3s 1ms/step\n"
     ]
    },
    {
     "data": {
      "image/png": "[encoded data removed]",
      "text/plain": [
       "<Figure size 640x480 with 1 Axes>"
      ]
     },
     "metadata": {},
     "output_type": "display_data"
    }
   ],
   "source": [
    "pred = model.predict(x_test)\n",
    "pred = pred[:,1]\n",
    "plot_roc(pred,y_true)"
   ]
  },
  {
   "cell_type": "markdown",
   "id": "5b83f21d-840a-467f-b7ce-8dd71a26e56f",
   "metadata": {},
   "source": [
    "#### CNN **SIGMOID ADAM MODEL**"
   ]
  },
  {
   "cell_type": "code",
   "execution_count": 51,
   "id": "b13732fe-9a6a-4893-8aa7-0df4f89a45b7",
   "metadata": {},
   "outputs": [
    {
     "name": "stdout",
     "output_type": "stream",
     "text": [
      "Epoch 1/1000\n",
      "5467/5479 [============================>.] - ETA: 0s - loss: 0.0717\n",
      "Epoch 1: val_loss improved from inf to 0.00003, saving model to dnn\\best_weights_cnn_sigmoidadam.hdf5\n",
      "5479/5479 [==============================] - 24s 4ms/step - loss: 0.0715 - val_loss: 2.9660e-05\n",
      "Epoch 2/1000\n",
      "5473/5479 [============================>.] - ETA: 0s - loss: 9.6647e-05\n",
      "Epoch 2: val_loss improved from 0.00003 to 0.00000, saving model to dnn\\best_weights_cnn_sigmoidadam.hdf5\n",
      "5479/5479 [==============================] - 25s 5ms/step - loss: 9.6551e-05 - val_loss: 3.2773e-07\n",
      "Epoch 3/1000\n",
      "5467/5479 [============================>.] - ETA: 0s - loss: 6.0559e-05\n",
      "Epoch 3: val_loss improved from 0.00000 to 0.00000, saving model to dnn\\best_weights_cnn_sigmoidadam.hdf5\n",
      "5479/5479 [==============================] - 22s 4ms/step - loss: 6.0431e-05 - val_loss: 2.6571e-08\n",
      "Epoch 3: early stopping\n"
     ]
    },
    {
     "data": {
      "text/plain": [
       "<keras.callbacks.History at 0x2c604f61150>"
      ]
     },
     "execution_count": 51,
     "metadata": {},
     "output_type": "execute_result"
    }
   ],
   "source": [
    "checkpointer_cnn = ModelCheckpoint(filepath=\"dnn/best_weights_cnn_sigmoidadam.hdf5\", verbose=1, save_best_only=True)\n",
    "cnn = Sequential()\n",
    "cnn.add(Conv2D(16, kernel_size=(1, 3), strides=(1, 1),\n",
    "                 activation='sigmoid',\n",
    "                 input_shape=(1, 199, 1)))\n",
    "\n",
    "cnn.add(MaxPooling2D(pool_size=(1,2)))\n",
    "\n",
    "cnn.add(Conv2D(32, kernel_size=(1, 3), strides=(1, 1),\n",
    "                 activation='sigmoid'))\n",
    "cnn.add(MaxPooling2D(pool_size=(1,2)))\n",
    "\n",
    "cnn.add(Flatten())\n",
    "cnn.add(Dense(64, activation=\"sigmoid\"))\n",
    "cnn.add(Dropout(0.5))\n",
    "cnn.add(Dense(2, activation=\"softmax\"))\n",
    "\n",
    "cnn.compile(loss=\"categorical_crossentropy\", optimizer=\"adam\")\n",
    "\n",
    "cnn.fit(cnn_x_train, y_train,     \n",
    "          batch_size=batch_size,\n",
    "          epochs=1000,\n",
    "          verbose=1,\n",
    "          validation_data=(cnn_x_test, y_test),\n",
    "          callbacks=[monitor, checkpointer_cnn]\n",
    "         )\n"
   ]
  },
  {
   "cell_type": "code",
   "execution_count": 52,
   "id": "60fcf119-c38d-46e7-a245-bf56298935f0",
   "metadata": {},
   "outputs": [
    {
     "name": "stdout",
     "output_type": "stream",
     "text": [
      "2573/2573 [==============================] - 3s 1ms/step\n",
      "Accuracy: 1.0\n"
     ]
    },
    {
     "data": {
      "image/png": "[encoded data removed]",
      "text/plain": [
       "<Figure size 640x480 with 2 Axes>"
      ]
     },
     "metadata": {},
     "output_type": "display_data"
    },
    {
     "name": "stdout",
     "output_type": "stream",
     "text": [
      "              precision    recall  f1-score   support\n",
      "\n",
      "           0       1.00      1.00      1.00     45329\n",
      "           1       1.00      1.00      1.00     36998\n",
      "\n",
      "    accuracy                           1.00     82327\n",
      "   macro avg       1.00      1.00      1.00     82327\n",
      "weighted avg       1.00      1.00      1.00     82327\n",
      "\n"
     ]
    }
   ],
   "source": [
    "cnn.load_weights('dnn/best_weights_cnn_sigmoidadam.hdf5')\n",
    "\n",
    "pred = cnn.predict(cnn_x_test)\n",
    "pred = np.argmax(pred,axis=1)\n",
    "score = metrics.accuracy_score(cnn_y_true, pred)\n",
    "print('Accuracy: {}'.format(score))\n",
    "\n",
    "cnn_cm = confusion_matrix(cnn_y_true, pred)\n",
    "\n",
    "plt.figure()\n",
    "plot_confusion_matrix(cnn_cm, attack_cat2)\n",
    "plt.show()\n",
    "print(classification_report(cnn_y_true,pred))"
   ]
  },
  {
   "cell_type": "markdown",
   "id": "4b669d57-2c5e-4030-bbe5-a08ca98728b0",
   "metadata": {},
   "source": [
    "#### **CNN TANH ADAM MODEL**"
   ]
  },
  {
   "cell_type": "code",
   "execution_count": 53,
   "id": "31677654-1cb4-4b55-81af-6f84f39fc579",
   "metadata": {},
   "outputs": [
    {
     "name": "stdout",
     "output_type": "stream",
     "text": [
      "Epoch 1/1000\n",
      "5477/5479 [============================>.] - ETA: 0s - loss: 0.0021\n",
      "Epoch 1: val_loss improved from inf to 0.00000, saving model to dnn\\best_weights_cnn_tanhdadam.hdf5\n",
      "5479/5479 [==============================] - 24s 4ms/step - loss: 0.0021 - val_loss: 4.1889e-07\n",
      "Epoch 2/1000\n",
      "5477/5479 [============================>.] - ETA: 0s - loss: 4.2675e-07\n",
      "Epoch 2: val_loss improved from 0.00000 to 0.00000, saving model to dnn\\best_weights_cnn_tanhdadam.hdf5\n",
      "5479/5479 [==============================] - 22s 4ms/step - loss: 4.2678e-07 - val_loss: 7.5484e-09\n",
      "Epoch 3/1000\n",
      "5476/5479 [============================>.] - ETA: 0s - loss: 3.0886e-08\n",
      "Epoch 3: val_loss improved from 0.00000 to 0.00000, saving model to dnn\\best_weights_cnn_tanhdadam.hdf5\n",
      "5479/5479 [==============================] - 24s 4ms/step - loss: 3.0876e-08 - val_loss: 1.0570e-10\n",
      "Epoch 3: early stopping\n"
     ]
    },
    {
     "data": {
      "text/plain": [
       "<keras.callbacks.History at 0x2c8308b51b0>"
      ]
     },
     "execution_count": 53,
     "metadata": {},
     "output_type": "execute_result"
    }
   ],
   "source": [
    "checkpointer_cnn = ModelCheckpoint(filepath=\"dnn/best_weights_cnn_tanhdadam.hdf5\", verbose=1, save_best_only=True)\n",
    "cnn = Sequential()\n",
    "cnn.add(Conv2D(16, kernel_size=(1, 3), strides=(1, 1),\n",
    "                 activation='tanh',\n",
    "                 input_shape=(1, 199, 1)))\n",
    "\n",
    "cnn.add(MaxPooling2D(pool_size=(1,2)))\n",
    "\n",
    "cnn.add(Conv2D(32, kernel_size=(1, 3), strides=(1, 1),\n",
    "                 activation='tanh'))\n",
    "cnn.add(MaxPooling2D(pool_size=(1,2)))\n",
    "\n",
    "cnn.add(Flatten())\n",
    "cnn.add(Dense(64, activation=\"tanh\"))\n",
    "cnn.add(Dropout(0.5))\n",
    "cnn.add(Dense(2, activation=\"softmax\"))\n",
    "\n",
    "cnn.compile(loss=\"categorical_crossentropy\", optimizer=\"adam\")\n",
    "\n",
    "cnn.fit(cnn_x_train, y_train,     \n",
    "          batch_size=batch_size,\n",
    "          epochs=1000,\n",
    "          verbose=1,\n",
    "          validation_data=(cnn_x_test, y_test),\n",
    "          callbacks=[monitor, checkpointer_cnn]\n",
    "         )\n",
    "\n"
   ]
  },
  {
   "cell_type": "code",
   "execution_count": 54,
   "id": "edead5dc-f9ee-4beb-b632-73a7417b6398",
   "metadata": {},
   "outputs": [
    {
     "name": "stdout",
     "output_type": "stream",
     "text": [
      "2573/2573 [==============================] - 3s 1ms/step\n",
      "Accuracy: 1.0\n"
     ]
    },
    {
     "data": {
      "image/png": "[encoded data removed]",
      "text/plain": [
       "<Figure size 640x480 with 2 Axes>"
      ]
     },
     "metadata": {},
     "output_type": "display_data"
    },
    {
     "name": "stdout",
     "output_type": "stream",
     "text": [
      "              precision    recall  f1-score   support\n",
      "\n",
      "           0       1.00      1.00      1.00     45329\n",
      "           1       1.00      1.00      1.00     36998\n",
      "\n",
      "    accuracy                           1.00     82327\n",
      "   macro avg       1.00      1.00      1.00     82327\n",
      "weighted avg       1.00      1.00      1.00     82327\n",
      "\n"
     ]
    }
   ],
   "source": [
    "cnn.load_weights('dnn/best_weights_cnn_tanhdadam.hdf5')\n",
    "\n",
    "pred = cnn.predict(cnn_x_test)\n",
    "pred = np.argmax(pred,axis=1)\n",
    "score = metrics.accuracy_score(cnn_y_true, pred)\n",
    "print('Accuracy: {}'.format(score))\n",
    "\n",
    "cnn_cm = confusion_matrix(cnn_y_true, pred)\n",
    "\n",
    "plt.figure()\n",
    "plot_confusion_matrix(cnn_cm, attack_cat2)\n",
    "plt.show()\n",
    "print(classification_report(cnn_y_true,pred))"
   ]
  },
  {
   "cell_type": "markdown",
   "id": "b8e5005a-f840-46e2-a556-21c611348c1f",
   "metadata": {},
   "source": [
    "#### **CNN RELU SGD MODEL**"
   ]
  },
  {
   "cell_type": "code",
   "execution_count": 55,
   "id": "a042a73a-aadb-437b-af71-3535d870340b",
   "metadata": {},
   "outputs": [
    {
     "name": "stdout",
     "output_type": "stream",
     "text": [
      "Epoch 1/1000\n",
      "5474/5479 [============================>.] - ETA: 0s - loss: 0.0486\n",
      "Epoch 1: val_loss improved from inf to 0.00066, saving model to dnn\\best_weights_cnn_relusgd.hdf5\n",
      "5479/5479 [==============================] - 26s 5ms/step - loss: 0.0486 - val_loss: 6.6479e-04\n",
      "Epoch 2/1000\n",
      "5475/5479 [============================>.] - ETA: 0s - loss: 0.0041\n",
      "Epoch 2: val_loss did not improve from 0.00066\n",
      "5479/5479 [==============================] - 21s 4ms/step - loss: 0.0041 - val_loss: 7.5056e-04\n",
      "Epoch 3/1000\n",
      "5474/5479 [============================>.] - ETA: 0s - loss: 0.0020\n",
      "Epoch 3: val_loss improved from 0.00066 to 0.00021, saving model to dnn\\best_weights_cnn_relusgd.hdf5\n",
      "5479/5479 [==============================] - 22s 4ms/step - loss: 0.0020 - val_loss: 2.1339e-04\n",
      "Epoch 3: early stopping\n"
     ]
    },
    {
     "data": {
      "text/plain": [
       "<keras.callbacks.History at 0x2c61402e020>"
      ]
     },
     "execution_count": 55,
     "metadata": {},
     "output_type": "execute_result"
    }
   ],
   "source": [
    "checkpointer_cnn = ModelCheckpoint(filepath=\"dnn/best_weights_cnn_relusgd.hdf5\", verbose=1, save_best_only=True)\n",
    "cnn = Sequential()\n",
    "cnn.add(Conv2D(16, kernel_size=(1, 3), strides=(1, 1),\n",
    "                 activation='relu',\n",
    "                 input_shape=(1, 199, 1)))\n",
    "\n",
    "cnn.add(MaxPooling2D(pool_size=(1,2)))\n",
    "\n",
    "cnn.add(Conv2D(32, kernel_size=(1, 3), strides=(1, 1),\n",
    "                 activation='relu'))\n",
    "cnn.add(MaxPooling2D(pool_size=(1,2)))\n",
    "\n",
    "cnn.add(Flatten())\n",
    "cnn.add(Dense(64, activation=\"relu\"))\n",
    "cnn.add(Dropout(0.5))\n",
    "cnn.add(Dense(2, activation=\"softmax\"))\n",
    "\n",
    "cnn.compile(loss=\"categorical_crossentropy\", optimizer=\"sgd\")\n",
    "\n",
    "cnn.fit(cnn_x_train, y_train,     \n",
    "          batch_size=batch_size,\n",
    "          epochs=1000,\n",
    "          verbose=1,\n",
    "          validation_data=(cnn_x_test, y_test),\n",
    "          callbacks=[monitor, checkpointer_cnn]\n",
    "         )"
   ]
  },
  {
   "cell_type": "code",
   "execution_count": 56,
   "id": "79e03301-6219-480e-b6a5-c1695074bfb4",
   "metadata": {},
   "outputs": [
    {
     "name": "stdout",
     "output_type": "stream",
     "text": [
      "2573/2573 [==============================] - 3s 1ms/step\n",
      "Accuracy: 0.9999635599499557\n"
     ]
    },
    {
     "data": {
      "image/png": "[encoded data removed]",
      "text/plain": [
       "<Figure size 640x480 with 2 Axes>"
      ]
     },
     "metadata": {},
     "output_type": "display_data"
    },
    {
     "name": "stdout",
     "output_type": "stream",
     "text": [
      "              precision    recall  f1-score   support\n",
      "\n",
      "           0       1.00      1.00      1.00     45329\n",
      "           1       1.00      1.00      1.00     36998\n",
      "\n",
      "    accuracy                           1.00     82327\n",
      "   macro avg       1.00      1.00      1.00     82327\n",
      "weighted avg       1.00      1.00      1.00     82327\n",
      "\n"
     ]
    }
   ],
   "source": [
    "cnn.load_weights('dnn/best_weights_cnn_relusgd.hdf5')\n",
    "\n",
    "pred = cnn.predict(cnn_x_test)\n",
    "pred = np.argmax(pred,axis=1)\n",
    "score = metrics.accuracy_score(cnn_y_true, pred)\n",
    "print('Accuracy: {}'.format(score))\n",
    "\n",
    "cnn_cm = confusion_matrix(cnn_y_true, pred)\n",
    "\n",
    "plt.figure()\n",
    "plot_confusion_matrix(cnn_cm, attack_cat2)\n",
    "plt.show()\n",
    "print(classification_report(cnn_y_true,pred))"
   ]
  },
  {
   "cell_type": "markdown",
   "id": "3e764b88-23da-4f15-ad6c-35de02295171",
   "metadata": {},
   "source": [
    "#### **CNN SIGMOID SDG MODEL**"
   ]
  },
  {
   "cell_type": "code",
   "execution_count": 57,
   "id": "7b0aa49d-8c91-4a8d-af0c-e78061469971",
   "metadata": {},
   "outputs": [
    {
     "name": "stdout",
     "output_type": "stream",
     "text": [
      "Epoch 1/1000\n",
      "5477/5479 [============================>.] - ETA: 0s - loss: 0.6313\n",
      "Epoch 1: val_loss improved from inf to 0.71817, saving model to dnn\\best_weights_cnn_sigmoidsgd.hdf5\n",
      "5479/5479 [==============================] - 21s 4ms/step - loss: 0.6313 - val_loss: 0.7182\n",
      "Epoch 2/1000\n",
      "5464/5479 [============================>.] - ETA: 0s - loss: 0.6268\n",
      "Epoch 2: val_loss did not improve from 0.71817\n",
      "5479/5479 [==============================] - 21s 4ms/step - loss: 0.6268 - val_loss: 0.7222\n",
      "Epoch 3/1000\n",
      "5465/5479 [============================>.] - ETA: 0s - loss: 0.6264\n",
      "Epoch 3: val_loss did not improve from 0.71817\n",
      "5479/5479 [==============================] - 21s 4ms/step - loss: 0.6264 - val_loss: 0.7192\n",
      "Epoch 3: early stopping\n"
     ]
    },
    {
     "data": {
      "text/plain": [
       "<keras.callbacks.History at 0x2c7fc9b7bb0>"
      ]
     },
     "execution_count": 57,
     "metadata": {},
     "output_type": "execute_result"
    }
   ],
   "source": [
    "checkpointer_cnn = ModelCheckpoint(filepath=\"dnn/best_weights_cnn_sigmoidsgd.hdf5\", verbose=1, save_best_only=True)\n",
    "cnn = Sequential()\n",
    "cnn.add(Conv2D(16, kernel_size=(1, 3), strides=(1, 1),\n",
    "                 activation='sigmoid',\n",
    "                 input_shape=(1, 199, 1)))\n",
    "\n",
    "cnn.add(MaxPooling2D(pool_size=(1,2)))\n",
    "\n",
    "cnn.add(Conv2D(32, kernel_size=(1, 3), strides=(1, 1),\n",
    "                 activation='sigmoid'))\n",
    "cnn.add(MaxPooling2D(pool_size=(1,2)))\n",
    "\n",
    "cnn.add(Flatten())\n",
    "cnn.add(Dense(64, activation=\"sigmoid\"))\n",
    "cnn.add(Dropout(0.5))\n",
    "cnn.add(Dense(2, activation=\"softmax\"))\n",
    "\n",
    "cnn.compile(loss=\"categorical_crossentropy\", optimizer=\"sgd\")\n",
    "\n",
    "cnn.fit(cnn_x_train, y_train,     \n",
    "          batch_size=batch_size,\n",
    "          epochs=1000,\n",
    "          verbose=1,\n",
    "          validation_data=(cnn_x_test, y_test),\n",
    "          callbacks=[monitor, checkpointer_cnn]\n",
    "         )"
   ]
  },
  {
   "cell_type": "code",
   "execution_count": 58,
   "id": "bd2191f2-b5e4-4953-8a43-3a4998c646a4",
   "metadata": {},
   "outputs": [
    {
     "name": "stdout",
     "output_type": "stream",
     "text": [
      "2573/2573 [==============================] - 3s 1ms/step\n",
      "Accuracy: 0.5505970094865597\n"
     ]
    },
    {
     "data": {
      "image/png": "[encoded data removed]",
      "text/plain": [
       "<Figure size 640x480 with 2 Axes>"
      ]
     },
     "metadata": {},
     "output_type": "display_data"
    },
    {
     "name": "stdout",
     "output_type": "stream",
     "text": [
      "              precision    recall  f1-score   support\n",
      "\n",
      "           0       0.55      1.00      0.71     45329\n",
      "           1       0.00      0.00      0.00     36998\n",
      "\n",
      "    accuracy                           0.55     82327\n",
      "   macro avg       0.28      0.50      0.36     82327\n",
      "weighted avg       0.30      0.55      0.39     82327\n",
      "\n"
     ]
    }
   ],
   "source": [
    "cnn.load_weights('dnn/best_weights_cnn_sigmoidsgd.hdf5')\n",
    "\n",
    "pred = cnn.predict(cnn_x_test)\n",
    "pred = np.argmax(pred,axis=1)\n",
    "score = metrics.accuracy_score(cnn_y_true, pred)\n",
    "print('Accuracy: {}'.format(score))\n",
    "\n",
    "cnn_cm = confusion_matrix(cnn_y_true, pred)\n",
    "\n",
    "plt.figure()\n",
    "plot_confusion_matrix(cnn_cm, attack_cat2)\n",
    "plt.show()\n",
    "print(classification_report(cnn_y_true,pred))"
   ]
  },
  {
   "cell_type": "markdown",
   "id": "11512306-9647-42a4-81e1-029bb8e37252",
   "metadata": {},
   "source": [
    "#### **CNN TANH SGD MODEL**"
   ]
  },
  {
   "cell_type": "code",
   "execution_count": 59,
   "id": "a7f26273-53c1-42a3-8012-59d5464c582c",
   "metadata": {},
   "outputs": [
    {
     "name": "stdout",
     "output_type": "stream",
     "text": [
      "Epoch 1/1000\n",
      "5472/5479 [============================>.] - ETA: 0s - loss: 0.0303\n",
      "Epoch 1: val_loss improved from inf to 0.00207, saving model to dnn\\best_weights_cnn_tahnsgd.hdf5\n",
      "5479/5479 [==============================] - 21s 4ms/step - loss: 0.0302 - val_loss: 0.0021\n",
      "Epoch 2/1000\n",
      "5478/5479 [============================>.] - ETA: 0s - loss: 0.0011\n",
      "Epoch 2: val_loss improved from 0.00207 to 0.00075, saving model to dnn\\best_weights_cnn_tahnsgd.hdf5\n",
      "5479/5479 [==============================] - 22s 4ms/step - loss: 0.0011 - val_loss: 7.5252e-04\n",
      "Epoch 3/1000\n",
      "5472/5479 [============================>.] - ETA: 0s - loss: 5.3960e-04\n",
      "Epoch 3: val_loss improved from 0.00075 to 0.00037, saving model to dnn\\best_weights_cnn_tahnsgd.hdf5\n",
      "5479/5479 [==============================] - 21s 4ms/step - loss: 5.3941e-04 - val_loss: 3.7034e-04\n",
      "Epoch 4/1000\n",
      "5460/5479 [============================>.] - ETA: 0s - loss: 3.6253e-04\n",
      "Epoch 4: val_loss improved from 0.00037 to 0.00025, saving model to dnn\\best_weights_cnn_tahnsgd.hdf5\n",
      "5479/5479 [==============================] - 21s 4ms/step - loss: 3.6191e-04 - val_loss: 2.5340e-04\n",
      "Epoch 4: early stopping\n"
     ]
    },
    {
     "data": {
      "text/plain": [
       "<keras.callbacks.History at 0x2c7fc96eb00>"
      ]
     },
     "execution_count": 59,
     "metadata": {},
     "output_type": "execute_result"
    }
   ],
   "source": [
    "checkpointer_cnn = ModelCheckpoint(filepath=\"dnn/best_weights_cnn_tahnsgd.hdf5\", verbose=1, save_best_only=True)\n",
    "cnn = Sequential()\n",
    "cnn.add(Conv2D(16, kernel_size=(1, 3), strides=(1, 1),\n",
    "                 activation='tanh',\n",
    "                 input_shape=(1, 199, 1)))\n",
    "\n",
    "cnn.add(MaxPooling2D(pool_size=(1,2)))\n",
    "\n",
    "cnn.add(Conv2D(32, kernel_size=(1, 3), strides=(1, 1),\n",
    "                 activation='tanh'))\n",
    "cnn.add(MaxPooling2D(pool_size=(1,2)))\n",
    "\n",
    "cnn.add(Flatten())\n",
    "cnn.add(Dense(64, activation=\"tanh\"))\n",
    "cnn.add(Dropout(0.5))\n",
    "cnn.add(Dense(2, activation=\"softmax\"))\n",
    "\n",
    "cnn.compile(loss=\"categorical_crossentropy\", optimizer=\"sgd\")\n",
    "\n",
    "cnn.fit(cnn_x_train, y_train,     \n",
    "          batch_size=batch_size,\n",
    "          epochs=1000,\n",
    "          verbose=1,\n",
    "          validation_data=(cnn_x_test, y_test),\n",
    "          callbacks=[monitor, checkpointer_cnn]\n",
    "         )"
   ]
  },
  {
   "cell_type": "code",
   "execution_count": 60,
   "id": "8b91dd43-0573-48bc-9f5f-59f0e251674d",
   "metadata": {},
   "outputs": [
    {
     "name": "stdout",
     "output_type": "stream",
     "text": [
      "2573/2573 [==============================] - 3s 1ms/step\n",
      "Accuracy: 0.9999878533166519\n"
     ]
    },
    {
     "data": {
      "image/png": "[encoded data removed]",
      "text/plain": [
       "<Figure size 640x480 with 2 Axes>"
      ]
     },
     "metadata": {},
     "output_type": "display_data"
    },
    {
     "name": "stdout",
     "output_type": "stream",
     "text": [
      "              precision    recall  f1-score   support\n",
      "\n",
      "           0       1.00      1.00      1.00     45329\n",
      "           1       1.00      1.00      1.00     36998\n",
      "\n",
      "    accuracy                           1.00     82327\n",
      "   macro avg       1.00      1.00      1.00     82327\n",
      "weighted avg       1.00      1.00      1.00     82327\n",
      "\n"
     ]
    }
   ],
   "source": [
    "cnn.load_weights('dnn/best_weights_cnn_tahnsgd.hdf5')\n",
    "\n",
    "pred = cnn.predict(cnn_x_test)\n",
    "pred = np.argmax(pred,axis=1)\n",
    "score = metrics.accuracy_score(cnn_y_true, pred)\n",
    "print('Accuracy: {}'.format(score))\n",
    "\n",
    "cnn_cm = confusion_matrix(cnn_y_true, pred)\n",
    "\n",
    "plt.figure()\n",
    "plot_confusion_matrix(cnn_cm, attack_cat2)\n",
    "plt.show()\n",
    "print(classification_report(cnn_y_true,pred))"
   ]
  },
  {
   "cell_type": "markdown",
   "id": "88b1738e-34d3-4b9f-adf1-9a7b8fd79a00",
   "metadata": {},
   "source": [
    "#### **ADDITIONAL FEATURES # 1 Multi-Classification**"
   ]
  },
  {
   "cell_type": "code",
   "execution_count": 61,
   "id": "1f8398d9-6a04-4ec6-aa31-78e0ece9e1c6",
   "metadata": {},
   "outputs": [],
   "source": [
    "add_one_train_df = filtered_train_df\n",
    "add_one_test_df = filtered_test_df"
   ]
  },
  {
   "cell_type": "code",
   "execution_count": 62,
   "id": "57eeb09f-451c-4374-bee3-e6c15428cc4b",
   "metadata": {},
   "outputs": [
    {
     "data": {
      "text/html": [
       "<div>\n",
       "<style scoped>\n",
       "    .dataframe tbody tr th:only-of-type {\n",
       "        vertical-align: middle;\n",
       "    }\n",
       "\n",
       "    .dataframe tbody tr th {\n",
       "        vertical-align: top;\n",
       "    }\n",
       "\n",
       "    .dataframe thead th {\n",
       "        text-align: right;\n",
       "    }\n",
       "</style>\n",
       "<table border=\"1\" class=\"dataframe\">\n",
       "  <thead>\n",
       "    <tr style=\"text-align: right;\">\n",
       "      <th></th>\n",
       "      <th>id</th>\n",
       "      <th>dur</th>\n",
       "      <th>proto</th>\n",
       "      <th>service</th>\n",
       "      <th>state</th>\n",
       "      <th>spkts</th>\n",
       "      <th>dpkts</th>\n",
       "      <th>sbytes</th>\n",
       "      <th>dbytes</th>\n",
       "      <th>rate</th>\n",
       "      <th>...</th>\n",
       "      <th>ct_dst_sport_ltm</th>\n",
       "      <th>ct_dst_src_ltm</th>\n",
       "      <th>is_ftp_login</th>\n",
       "      <th>ct_ftp_cmd</th>\n",
       "      <th>ct_flw_http_mthd</th>\n",
       "      <th>ct_src_ltm</th>\n",
       "      <th>ct_srv_dst</th>\n",
       "      <th>is_sm_ips_ports</th>\n",
       "      <th>attack_cat</th>\n",
       "      <th>label</th>\n",
       "    </tr>\n",
       "  </thead>\n",
       "  <tbody>\n",
       "    <tr>\n",
       "      <th>0</th>\n",
       "      <td>1</td>\n",
       "      <td>0.000011</td>\n",
       "      <td>udp</td>\n",
       "      <td>-</td>\n",
       "      <td>INT</td>\n",
       "      <td>2</td>\n",
       "      <td>0</td>\n",
       "      <td>496</td>\n",
       "      <td>0</td>\n",
       "      <td>90909.0902</td>\n",
       "      <td>...</td>\n",
       "      <td>1</td>\n",
       "      <td>2</td>\n",
       "      <td>0</td>\n",
       "      <td>0</td>\n",
       "      <td>0</td>\n",
       "      <td>1</td>\n",
       "      <td>2</td>\n",
       "      <td>0</td>\n",
       "      <td>Normal</td>\n",
       "      <td>0</td>\n",
       "    </tr>\n",
       "    <tr>\n",
       "      <th>1</th>\n",
       "      <td>2</td>\n",
       "      <td>0.000008</td>\n",
       "      <td>udp</td>\n",
       "      <td>-</td>\n",
       "      <td>INT</td>\n",
       "      <td>2</td>\n",
       "      <td>0</td>\n",
       "      <td>1762</td>\n",
       "      <td>0</td>\n",
       "      <td>125000.0003</td>\n",
       "      <td>...</td>\n",
       "      <td>1</td>\n",
       "      <td>2</td>\n",
       "      <td>0</td>\n",
       "      <td>0</td>\n",
       "      <td>0</td>\n",
       "      <td>1</td>\n",
       "      <td>2</td>\n",
       "      <td>0</td>\n",
       "      <td>Normal</td>\n",
       "      <td>0</td>\n",
       "    </tr>\n",
       "    <tr>\n",
       "      <th>2</th>\n",
       "      <td>3</td>\n",
       "      <td>0.000005</td>\n",
       "      <td>udp</td>\n",
       "      <td>-</td>\n",
       "      <td>INT</td>\n",
       "      <td>2</td>\n",
       "      <td>0</td>\n",
       "      <td>1068</td>\n",
       "      <td>0</td>\n",
       "      <td>200000.0051</td>\n",
       "      <td>...</td>\n",
       "      <td>1</td>\n",
       "      <td>3</td>\n",
       "      <td>0</td>\n",
       "      <td>0</td>\n",
       "      <td>0</td>\n",
       "      <td>1</td>\n",
       "      <td>3</td>\n",
       "      <td>0</td>\n",
       "      <td>Normal</td>\n",
       "      <td>0</td>\n",
       "    </tr>\n",
       "    <tr>\n",
       "      <th>3</th>\n",
       "      <td>4</td>\n",
       "      <td>0.000006</td>\n",
       "      <td>udp</td>\n",
       "      <td>-</td>\n",
       "      <td>INT</td>\n",
       "      <td>2</td>\n",
       "      <td>0</td>\n",
       "      <td>900</td>\n",
       "      <td>0</td>\n",
       "      <td>166666.6608</td>\n",
       "      <td>...</td>\n",
       "      <td>1</td>\n",
       "      <td>3</td>\n",
       "      <td>0</td>\n",
       "      <td>0</td>\n",
       "      <td>0</td>\n",
       "      <td>2</td>\n",
       "      <td>3</td>\n",
       "      <td>0</td>\n",
       "      <td>Normal</td>\n",
       "      <td>0</td>\n",
       "    </tr>\n",
       "    <tr>\n",
       "      <th>4</th>\n",
       "      <td>5</td>\n",
       "      <td>0.000010</td>\n",
       "      <td>udp</td>\n",
       "      <td>-</td>\n",
       "      <td>INT</td>\n",
       "      <td>2</td>\n",
       "      <td>0</td>\n",
       "      <td>2126</td>\n",
       "      <td>0</td>\n",
       "      <td>100000.0025</td>\n",
       "      <td>...</td>\n",
       "      <td>1</td>\n",
       "      <td>3</td>\n",
       "      <td>0</td>\n",
       "      <td>0</td>\n",
       "      <td>0</td>\n",
       "      <td>2</td>\n",
       "      <td>3</td>\n",
       "      <td>0</td>\n",
       "      <td>Normal</td>\n",
       "      <td>0</td>\n",
       "    </tr>\n",
       "  </tbody>\n",
       "</table>\n",
       "<p>5 rows × 45 columns</p>\n",
       "</div>"
      ],
      "text/plain": [
       "   id       dur proto service state  spkts  dpkts  sbytes  dbytes  \\\n",
       "0   1  0.000011   udp       -   INT      2      0     496       0   \n",
       "1   2  0.000008   udp       -   INT      2      0    1762       0   \n",
       "2   3  0.000005   udp       -   INT      2      0    1068       0   \n",
       "3   4  0.000006   udp       -   INT      2      0     900       0   \n",
       "4   5  0.000010   udp       -   INT      2      0    2126       0   \n",
       "\n",
       "          rate  ...  ct_dst_sport_ltm  ct_dst_src_ltm  is_ftp_login  \\\n",
       "0   90909.0902  ...                 1               2             0   \n",
       "1  125000.0003  ...                 1               2             0   \n",
       "2  200000.0051  ...                 1               3             0   \n",
       "3  166666.6608  ...                 1               3             0   \n",
       "4  100000.0025  ...                 1               3             0   \n",
       "\n",
       "   ct_ftp_cmd  ct_flw_http_mthd  ct_src_ltm  ct_srv_dst  is_sm_ips_ports  \\\n",
       "0           0                 0           1           2                0   \n",
       "1           0                 0           1           2                0   \n",
       "2           0                 0           1           3                0   \n",
       "3           0                 0           2           3                0   \n",
       "4           0                 0           2           3                0   \n",
       "\n",
       "   attack_cat  label  \n",
       "0      Normal      0  \n",
       "1      Normal      0  \n",
       "2      Normal      0  \n",
       "3      Normal      0  \n",
       "4      Normal      0  \n",
       "\n",
       "[5 rows x 45 columns]"
      ]
     },
     "execution_count": 62,
     "metadata": {},
     "output_type": "execute_result"
    }
   ],
   "source": [
    "add_one_test_df.head()"
   ]
  },
  {
   "cell_type": "code",
   "execution_count": 63,
   "id": "e7690b31-53a7-486a-94f0-6ad9d3615862",
   "metadata": {},
   "outputs": [],
   "source": [
    "for i in range(len(remove_cols)):\n",
    "    encode_numeric_zscore(add_one_train_df, remove_cols[i])\n",
    "    encode_numeric_zscore(add_one_test_df, remove_cols[i])\n",
    "\n",
    "cols_temp = ['proto', 'state', 'service']\n",
    "\n",
    "for i in range(len(cols_temp)):\n",
    "    encode_text_dummy(add_one_train_df, cols_temp[i])\n",
    "    encode_text_dummy(add_one_test_df, cols_temp[i])\n",
    "    \n"
   ]
  },
  {
   "cell_type": "code",
   "execution_count": 64,
   "id": "dfaa9c7e-3e79-4ba5-aecc-699cee03854b",
   "metadata": {},
   "outputs": [
    {
     "data": {
      "text/html": [
       "<div>\n",
       "<style scoped>\n",
       "    .dataframe tbody tr th:only-of-type {\n",
       "        vertical-align: middle;\n",
       "    }\n",
       "\n",
       "    .dataframe tbody tr th {\n",
       "        vertical-align: top;\n",
       "    }\n",
       "\n",
       "    .dataframe thead th {\n",
       "        text-align: right;\n",
       "    }\n",
       "</style>\n",
       "<table border=\"1\" class=\"dataframe\">\n",
       "  <thead>\n",
       "    <tr style=\"text-align: right;\">\n",
       "      <th></th>\n",
       "      <th>id</th>\n",
       "      <th>dur</th>\n",
       "      <th>spkts</th>\n",
       "      <th>dpkts</th>\n",
       "      <th>sbytes</th>\n",
       "      <th>dbytes</th>\n",
       "      <th>rate</th>\n",
       "      <th>sttl</th>\n",
       "      <th>dttl</th>\n",
       "      <th>sload</th>\n",
       "      <th>...</th>\n",
       "      <th>service-ftp</th>\n",
       "      <th>service-ftp-data</th>\n",
       "      <th>service-http</th>\n",
       "      <th>service-irc</th>\n",
       "      <th>service-pop3</th>\n",
       "      <th>service-radius</th>\n",
       "      <th>service-smtp</th>\n",
       "      <th>service-snmp</th>\n",
       "      <th>service-ssh</th>\n",
       "      <th>service-ssl</th>\n",
       "    </tr>\n",
       "  </thead>\n",
       "  <tbody>\n",
       "    <tr>\n",
       "      <th>0</th>\n",
       "      <td>1</td>\n",
       "      <td>-0.191039</td>\n",
       "      <td>-0.104463</td>\n",
       "      <td>-0.135778</td>\n",
       "      <td>-0.049135</td>\n",
       "      <td>-0.102730</td>\n",
       "      <td>-0.576360</td>\n",
       "      <td>0.703779</td>\n",
       "      <td>1.577996</td>\n",
       "      <td>-0.389870</td>\n",
       "      <td>...</td>\n",
       "      <td>0</td>\n",
       "      <td>0</td>\n",
       "      <td>0</td>\n",
       "      <td>0</td>\n",
       "      <td>0</td>\n",
       "      <td>0</td>\n",
       "      <td>0</td>\n",
       "      <td>0</td>\n",
       "      <td>0</td>\n",
       "      <td>0</td>\n",
       "    </tr>\n",
       "    <tr>\n",
       "      <th>1</th>\n",
       "      <td>2</td>\n",
       "      <td>-0.109499</td>\n",
       "      <td>-0.046023</td>\n",
       "      <td>0.172575</td>\n",
       "      <td>-0.046412</td>\n",
       "      <td>0.188526</td>\n",
       "      <td>-0.576334</td>\n",
       "      <td>-1.141964</td>\n",
       "      <td>1.559898</td>\n",
       "      <td>-0.389901</td>\n",
       "      <td>...</td>\n",
       "      <td>0</td>\n",
       "      <td>0</td>\n",
       "      <td>0</td>\n",
       "      <td>0</td>\n",
       "      <td>0</td>\n",
       "      <td>0</td>\n",
       "      <td>0</td>\n",
       "      <td>0</td>\n",
       "      <td>0</td>\n",
       "      <td>0</td>\n",
       "    </tr>\n",
       "    <tr>\n",
       "      <th>2</th>\n",
       "      <td>3</td>\n",
       "      <td>0.040678</td>\n",
       "      <td>-0.089853</td>\n",
       "      <td>-0.026948</td>\n",
       "      <td>-0.048529</td>\n",
       "      <td>-0.012142</td>\n",
       "      <td>-0.576722</td>\n",
       "      <td>-1.141964</td>\n",
       "      <td>1.559898</td>\n",
       "      <td>-0.389937</td>\n",
       "      <td>...</td>\n",
       "      <td>0</td>\n",
       "      <td>0</td>\n",
       "      <td>0</td>\n",
       "      <td>0</td>\n",
       "      <td>0</td>\n",
       "      <td>0</td>\n",
       "      <td>0</td>\n",
       "      <td>0</td>\n",
       "      <td>0</td>\n",
       "      <td>0</td>\n",
       "    </tr>\n",
       "    <tr>\n",
       "      <th>3</th>\n",
       "      <td>4</td>\n",
       "      <td>0.049707</td>\n",
       "      <td>-0.060633</td>\n",
       "      <td>-0.063224</td>\n",
       "      <td>-0.047018</td>\n",
       "      <td>-0.098568</td>\n",
       "      <td>-0.576725</td>\n",
       "      <td>-1.141964</td>\n",
       "      <td>1.559898</td>\n",
       "      <td>-0.389931</td>\n",
       "      <td>...</td>\n",
       "      <td>1</td>\n",
       "      <td>0</td>\n",
       "      <td>0</td>\n",
       "      <td>0</td>\n",
       "      <td>0</td>\n",
       "      <td>0</td>\n",
       "      <td>0</td>\n",
       "      <td>0</td>\n",
       "      <td>0</td>\n",
       "      <td>0</td>\n",
       "    </tr>\n",
       "    <tr>\n",
       "      <th>4</th>\n",
       "      <td>5</td>\n",
       "      <td>-0.140430</td>\n",
       "      <td>-0.075243</td>\n",
       "      <td>-0.117640</td>\n",
       "      <td>-0.047556</td>\n",
       "      <td>-0.102062</td>\n",
       "      <td>-0.576606</td>\n",
       "      <td>0.723208</td>\n",
       "      <td>1.559898</td>\n",
       "      <td>-0.389900</td>\n",
       "      <td>...</td>\n",
       "      <td>0</td>\n",
       "      <td>0</td>\n",
       "      <td>0</td>\n",
       "      <td>0</td>\n",
       "      <td>0</td>\n",
       "      <td>0</td>\n",
       "      <td>0</td>\n",
       "      <td>0</td>\n",
       "      <td>0</td>\n",
       "      <td>0</td>\n",
       "    </tr>\n",
       "  </tbody>\n",
       "</table>\n",
       "<p>5 rows × 191 columns</p>\n",
       "</div>"
      ],
      "text/plain": [
       "   id       dur     spkts     dpkts    sbytes    dbytes      rate      sttl  \\\n",
       "0   1 -0.191039 -0.104463 -0.135778 -0.049135 -0.102730 -0.576360  0.703779   \n",
       "1   2 -0.109499 -0.046023  0.172575 -0.046412  0.188526 -0.576334 -1.141964   \n",
       "2   3  0.040678 -0.089853 -0.026948 -0.048529 -0.012142 -0.576722 -1.141964   \n",
       "3   4  0.049707 -0.060633 -0.063224 -0.047018 -0.098568 -0.576725 -1.141964   \n",
       "4   5 -0.140430 -0.075243 -0.117640 -0.047556 -0.102062 -0.576606  0.723208   \n",
       "\n",
       "       dttl     sload  ...  service-ftp  service-ftp-data  service-http  \\\n",
       "0  1.577996 -0.389870  ...            0                 0             0   \n",
       "1  1.559898 -0.389901  ...            0                 0             0   \n",
       "2  1.559898 -0.389937  ...            0                 0             0   \n",
       "3  1.559898 -0.389931  ...            1                 0             0   \n",
       "4  1.559898 -0.389900  ...            0                 0             0   \n",
       "\n",
       "   service-irc  service-pop3  service-radius  service-smtp  service-snmp  \\\n",
       "0            0             0               0             0             0   \n",
       "1            0             0               0             0             0   \n",
       "2            0             0               0             0             0   \n",
       "3            0             0               0             0             0   \n",
       "4            0             0               0             0             0   \n",
       "\n",
       "   service-ssh  service-ssl  \n",
       "0            0            0  \n",
       "1            0            0  \n",
       "2            0            0  \n",
       "3            0            0  \n",
       "4            0            0  \n",
       "\n",
       "[5 rows x 191 columns]"
      ]
     },
     "execution_count": 64,
     "metadata": {},
     "output_type": "execute_result"
    }
   ],
   "source": [
    "add_one_train_df.head()"
   ]
  },
  {
   "cell_type": "code",
   "execution_count": 65,
   "id": "15ea896f-a133-4ded-b843-4252e7442d08",
   "metadata": {},
   "outputs": [
    {
     "data": {
      "text/plain": [
       "(175325, 191)"
      ]
     },
     "execution_count": 65,
     "metadata": {},
     "output_type": "execute_result"
    }
   ],
   "source": [
    "add_one_train_df.shape"
   ]
  },
  {
   "cell_type": "code",
   "execution_count": 66,
   "id": "8120834b-1e2b-4ffc-b850-c9d3c80e1ec9",
   "metadata": {},
   "outputs": [],
   "source": [
    "add_one_train_df = add_one_train_df.drop('id', axis=1)\n",
    "add_one_test_df = add_one_test_df.drop('id', axis=1)\n",
    "\n",
    "add_two_train_df = add_one_train_df.copy()\n",
    "add_two_test_df = add_one_test_df.copy()"
   ]
  },
  {
   "cell_type": "code",
   "execution_count": 67,
   "id": "8360a3ee-65b4-436e-a1b9-91dd856afd2b",
   "metadata": {},
   "outputs": [
    {
     "data": {
      "text/html": [
       "<div>\n",
       "<style scoped>\n",
       "    .dataframe tbody tr th:only-of-type {\n",
       "        vertical-align: middle;\n",
       "    }\n",
       "\n",
       "    .dataframe tbody tr th {\n",
       "        vertical-align: top;\n",
       "    }\n",
       "\n",
       "    .dataframe thead th {\n",
       "        text-align: right;\n",
       "    }\n",
       "</style>\n",
       "<table border=\"1\" class=\"dataframe\">\n",
       "  <thead>\n",
       "    <tr style=\"text-align: right;\">\n",
       "      <th></th>\n",
       "      <th>dur</th>\n",
       "      <th>spkts</th>\n",
       "      <th>dpkts</th>\n",
       "      <th>sbytes</th>\n",
       "      <th>dbytes</th>\n",
       "      <th>rate</th>\n",
       "      <th>sttl</th>\n",
       "      <th>dttl</th>\n",
       "      <th>sload</th>\n",
       "      <th>dload</th>\n",
       "      <th>...</th>\n",
       "      <th>service-ftp</th>\n",
       "      <th>service-ftp-data</th>\n",
       "      <th>service-http</th>\n",
       "      <th>service-irc</th>\n",
       "      <th>service-pop3</th>\n",
       "      <th>service-radius</th>\n",
       "      <th>service-smtp</th>\n",
       "      <th>service-snmp</th>\n",
       "      <th>service-ssh</th>\n",
       "      <th>service-ssl</th>\n",
       "    </tr>\n",
       "  </thead>\n",
       "  <tbody>\n",
       "    <tr>\n",
       "      <th>0</th>\n",
       "      <td>-0.191039</td>\n",
       "      <td>-0.104463</td>\n",
       "      <td>-0.135778</td>\n",
       "      <td>-0.049135</td>\n",
       "      <td>-0.102730</td>\n",
       "      <td>-0.576360</td>\n",
       "      <td>0.703779</td>\n",
       "      <td>1.577996</td>\n",
       "      <td>-0.389870</td>\n",
       "      <td>-0.273713</td>\n",
       "      <td>...</td>\n",
       "      <td>0</td>\n",
       "      <td>0</td>\n",
       "      <td>0</td>\n",
       "      <td>0</td>\n",
       "      <td>0</td>\n",
       "      <td>0</td>\n",
       "      <td>0</td>\n",
       "      <td>0</td>\n",
       "      <td>0</td>\n",
       "      <td>0</td>\n",
       "    </tr>\n",
       "    <tr>\n",
       "      <th>1</th>\n",
       "      <td>-0.109499</td>\n",
       "      <td>-0.046023</td>\n",
       "      <td>0.172575</td>\n",
       "      <td>-0.046412</td>\n",
       "      <td>0.188526</td>\n",
       "      <td>-0.576334</td>\n",
       "      <td>-1.141964</td>\n",
       "      <td>1.559898</td>\n",
       "      <td>-0.389901</td>\n",
       "      <td>-0.069255</td>\n",
       "      <td>...</td>\n",
       "      <td>0</td>\n",
       "      <td>0</td>\n",
       "      <td>0</td>\n",
       "      <td>0</td>\n",
       "      <td>0</td>\n",
       "      <td>0</td>\n",
       "      <td>0</td>\n",
       "      <td>0</td>\n",
       "      <td>0</td>\n",
       "      <td>0</td>\n",
       "    </tr>\n",
       "    <tr>\n",
       "      <th>2</th>\n",
       "      <td>0.040678</td>\n",
       "      <td>-0.089853</td>\n",
       "      <td>-0.026948</td>\n",
       "      <td>-0.048529</td>\n",
       "      <td>-0.012142</td>\n",
       "      <td>-0.576722</td>\n",
       "      <td>-1.141964</td>\n",
       "      <td>1.559898</td>\n",
       "      <td>-0.389937</td>\n",
       "      <td>-0.252058</td>\n",
       "      <td>...</td>\n",
       "      <td>0</td>\n",
       "      <td>0</td>\n",
       "      <td>0</td>\n",
       "      <td>0</td>\n",
       "      <td>0</td>\n",
       "      <td>0</td>\n",
       "      <td>0</td>\n",
       "      <td>0</td>\n",
       "      <td>0</td>\n",
       "      <td>0</td>\n",
       "    </tr>\n",
       "    <tr>\n",
       "      <th>3</th>\n",
       "      <td>0.049707</td>\n",
       "      <td>-0.060633</td>\n",
       "      <td>-0.063224</td>\n",
       "      <td>-0.047018</td>\n",
       "      <td>-0.098568</td>\n",
       "      <td>-0.576725</td>\n",
       "      <td>-1.141964</td>\n",
       "      <td>1.559898</td>\n",
       "      <td>-0.389931</td>\n",
       "      <td>-0.275834</td>\n",
       "      <td>...</td>\n",
       "      <td>1</td>\n",
       "      <td>0</td>\n",
       "      <td>0</td>\n",
       "      <td>0</td>\n",
       "      <td>0</td>\n",
       "      <td>0</td>\n",
       "      <td>0</td>\n",
       "      <td>0</td>\n",
       "      <td>0</td>\n",
       "      <td>0</td>\n",
       "    </tr>\n",
       "    <tr>\n",
       "      <th>4</th>\n",
       "      <td>-0.140430</td>\n",
       "      <td>-0.075243</td>\n",
       "      <td>-0.117640</td>\n",
       "      <td>-0.047556</td>\n",
       "      <td>-0.102062</td>\n",
       "      <td>-0.576606</td>\n",
       "      <td>0.723208</td>\n",
       "      <td>1.559898</td>\n",
       "      <td>-0.389900</td>\n",
       "      <td>-0.275574</td>\n",
       "      <td>...</td>\n",
       "      <td>0</td>\n",
       "      <td>0</td>\n",
       "      <td>0</td>\n",
       "      <td>0</td>\n",
       "      <td>0</td>\n",
       "      <td>0</td>\n",
       "      <td>0</td>\n",
       "      <td>0</td>\n",
       "      <td>0</td>\n",
       "      <td>0</td>\n",
       "    </tr>\n",
       "  </tbody>\n",
       "</table>\n",
       "<p>5 rows × 190 columns</p>\n",
       "</div>"
      ],
      "text/plain": [
       "        dur     spkts     dpkts    sbytes    dbytes      rate      sttl  \\\n",
       "0 -0.191039 -0.104463 -0.135778 -0.049135 -0.102730 -0.576360  0.703779   \n",
       "1 -0.109499 -0.046023  0.172575 -0.046412  0.188526 -0.576334 -1.141964   \n",
       "2  0.040678 -0.089853 -0.026948 -0.048529 -0.012142 -0.576722 -1.141964   \n",
       "3  0.049707 -0.060633 -0.063224 -0.047018 -0.098568 -0.576725 -1.141964   \n",
       "4 -0.140430 -0.075243 -0.117640 -0.047556 -0.102062 -0.576606  0.723208   \n",
       "\n",
       "       dttl     sload     dload  ...  service-ftp  service-ftp-data  \\\n",
       "0  1.577996 -0.389870 -0.273713  ...            0                 0   \n",
       "1  1.559898 -0.389901 -0.069255  ...            0                 0   \n",
       "2  1.559898 -0.389937 -0.252058  ...            0                 0   \n",
       "3  1.559898 -0.389931 -0.275834  ...            1                 0   \n",
       "4  1.559898 -0.389900 -0.275574  ...            0                 0   \n",
       "\n",
       "   service-http  service-irc  service-pop3  service-radius  service-smtp  \\\n",
       "0             0            0             0               0             0   \n",
       "1             0            0             0               0             0   \n",
       "2             0            0             0               0             0   \n",
       "3             0            0             0               0             0   \n",
       "4             0            0             0               0             0   \n",
       "\n",
       "   service-snmp  service-ssh  service-ssl  \n",
       "0             0            0            0  \n",
       "1             0            0            0  \n",
       "2             0            0            0  \n",
       "3             0            0            0  \n",
       "4             0            0            0  \n",
       "\n",
       "[5 rows x 190 columns]"
      ]
     },
     "execution_count": 67,
     "metadata": {},
     "output_type": "execute_result"
    }
   ],
   "source": [
    "add_two_train_df.head()"
   ]
  },
  {
   "cell_type": "code",
   "execution_count": 68,
   "id": "15da4339-adf4-44ff-a7a4-4e42d14cf0ec",
   "metadata": {},
   "outputs": [
    {
     "data": {
      "text/plain": [
       "(175325, 190)"
      ]
     },
     "execution_count": 68,
     "metadata": {},
     "output_type": "execute_result"
    }
   ],
   "source": [
    "add_one_train_df.shape"
   ]
  },
  {
   "cell_type": "code",
   "execution_count": 69,
   "id": "c9237cc5-e13f-42ef-be3e-9841bc579089",
   "metadata": {},
   "outputs": [],
   "source": [
    "attack_cat1 = encode_text_index(add_one_train_df, 'attack_cat')\n",
    "attack_cat2 = encode_text_index(add_one_test_df, 'attack_cat')\n",
    "x_train, y_train = to_xy(add_one_train_df,'attack_cat')\n",
    "x_test, y_test = to_xy(add_one_test_df,'attack_cat')"
   ]
  },
  {
   "cell_type": "markdown",
   "id": "17b06f1c-2a25-46d7-91a1-1a7e06b66ceb",
   "metadata": {},
   "source": [
    "#### **Fully-Connected Neural Networks Model Multi-Classification**"
   ]
  },
  {
   "cell_type": "code",
   "execution_count": 70,
   "id": "e87eb8c5-65f6-41cf-92f3-9c965732a8e6",
   "metadata": {},
   "outputs": [],
   "source": [
    "num_classes = 10\n",
    "cnn_x_train = x_train.reshape((x_train.shape[0], 1, x_train.shape[1], 1))\n",
    "cnn_x_test = x_test.reshape((x_test.shape[0], 1, x_test.shape[1], 1))\n",
    "num_features=x_train.shape[1]\n",
    "cnn_y_true = np.argmax(y_test,axis=1)\n",
    "cnn_scores = []\n",
    "batch_size = 32"
   ]
  },
  {
   "cell_type": "code",
   "execution_count": 71,
   "id": "fc6a820f-f7e7-4215-a8af-dd9f4b7291d8",
   "metadata": {},
   "outputs": [
    {
     "name": "stdout",
     "output_type": "stream",
     "text": [
      "189\n"
     ]
    }
   ],
   "source": [
    "neuron_count = x_train.shape[1]\n",
    "div = 3\n",
    "print(neuron_count)\n",
    "\n",
    "result_values_multiclass = [\n",
    "\n",
    "]"
   ]
  },
  {
   "cell_type": "code",
   "execution_count": 72,
   "id": "55e5880c-adf4-453f-978b-ce28f9a9fd1d",
   "metadata": {},
   "outputs": [
    {
     "name": "stdout",
     "output_type": "stream",
     "text": [
      "('relu', 'adam')\n",
      "dnn/best_weights_fnn_rluadam.hdf5\n",
      "Epoch 1/1000\n",
      "5479/5479 [==============================] - 17s 3ms/step - loss: 0.4610 - val_loss: 0.3328\n",
      "Epoch 2/1000\n",
      "5479/5479 [==============================] - 17s 3ms/step - loss: 0.4003 - val_loss: 0.3711\n",
      "Epoch 3/1000\n",
      "5479/5479 [==============================] - 17s 3ms/step - loss: 0.3852 - val_loss: 0.3370\n",
      "Epoch 3: early stopping\n",
      "2573/2573 [==============================] - 3s 1ms/step\n",
      "('sigmoid', 'adam')\n",
      "dnn/best_weights_fnn_sigadam.hdf5\n",
      "Epoch 1/1000\n",
      "5479/5479 [==============================] - 20s 4ms/step - loss: 0.5746 - val_loss: 0.3584\n",
      "Epoch 2/1000\n",
      "5479/5479 [==============================] - 19s 3ms/step - loss: 0.4366 - val_loss: 0.3561\n",
      "Epoch 3/1000\n",
      "5479/5479 [==============================] - 18s 3ms/step - loss: 0.4158 - val_loss: 0.3377\n",
      "Epoch 4/1000\n",
      "5479/5479 [==============================] - 20s 4ms/step - loss: 0.4017 - val_loss: 0.3333\n",
      "Epoch 5/1000\n",
      "5479/5479 [==============================] - 18s 3ms/step - loss: 0.3912 - val_loss: 0.3347\n",
      "Epoch 6/1000\n",
      "5479/5479 [==============================] - 18s 3ms/step - loss: 0.3843 - val_loss: 0.3298\n",
      "Epoch 7/1000\n",
      "5479/5479 [==============================] - 19s 3ms/step - loss: 0.3797 - val_loss: 0.3401\n",
      "Epoch 8/1000\n",
      "5479/5479 [==============================] - 18s 3ms/step - loss: 0.3759 - val_loss: 0.3325\n",
      "Epoch 8: early stopping\n",
      "2573/2573 [==============================] - 3s 983us/step\n",
      "('tanh', 'adam')\n",
      "dnn/best_weights_fnn_tanhadam.hdf5\n",
      "Epoch 1/1000\n",
      "5479/5479 [==============================] - 18s 3ms/step - loss: 0.4554 - val_loss: 0.3445\n",
      "Epoch 2/1000\n",
      "5479/5479 [==============================] - 17s 3ms/step - loss: 0.4009 - val_loss: 0.3442\n",
      "Epoch 3/1000\n",
      "5479/5479 [==============================] - 17s 3ms/step - loss: 0.3874 - val_loss: 0.3558\n",
      "Epoch 3: early stopping\n",
      "2573/2573 [==============================] - 3s 1ms/step\n",
      "('relu', 'sgd')\n",
      "dnn/best_weights_fnn_rluasgd.hdf5\n",
      "Epoch 1/1000\n",
      "5479/5479 [==============================] - 19s 3ms/step - loss: 0.4603 - val_loss: 0.3435\n",
      "Epoch 2/1000\n",
      "5479/5479 [==============================] - 18s 3ms/step - loss: 0.3990 - val_loss: 0.3222\n",
      "Epoch 3/1000\n",
      "5479/5479 [==============================] - 18s 3ms/step - loss: 0.3851 - val_loss: 0.3298\n",
      "Epoch 4/1000\n",
      "5479/5479 [==============================] - 19s 4ms/step - loss: 0.3771 - val_loss: 0.3534\n",
      "Epoch 4: early stopping\n",
      "2573/2573 [==============================] - 2s 936us/step\n",
      "('sigmoid', 'sgd')\n",
      "dnn/best_weights_fnn_sigsgd.hdf5\n",
      "Epoch 1/1000\n",
      "5479/5479 [==============================] - 19s 3ms/step - loss: 0.5611 - val_loss: 0.3600\n",
      "Epoch 2/1000\n",
      "5479/5479 [==============================] - 19s 3ms/step - loss: 0.4348 - val_loss: 0.3611\n",
      "Epoch 3/1000\n",
      "5479/5479 [==============================] - 19s 3ms/step - loss: 0.4141 - val_loss: 0.3498\n",
      "Epoch 4/1000\n",
      "5479/5479 [==============================] - 18s 3ms/step - loss: 0.4011 - val_loss: 0.3232\n",
      "Epoch 5/1000\n",
      "5479/5479 [==============================] - 19s 3ms/step - loss: 0.3926 - val_loss: 0.3323\n",
      "Epoch 6/1000\n",
      "5479/5479 [==============================] - 19s 3ms/step - loss: 0.3858 - val_loss: 0.3238\n",
      "Epoch 6: early stopping\n",
      "2573/2573 [==============================] - 3s 1ms/step\n",
      "('tanh', 'sgd')\n",
      "dnn/best_weights_fnn_tanhsgd.hdf5\n",
      "Epoch 1/1000\n",
      "5479/5479 [==============================] - 20s 4ms/step - loss: 0.4571 - val_loss: 0.3337\n",
      "Epoch 2/1000\n",
      "5479/5479 [==============================] - 18s 3ms/step - loss: 0.4015 - val_loss: 0.3325\n",
      "Epoch 3/1000\n",
      "5479/5479 [==============================] - 18s 3ms/step - loss: 0.3852 - val_loss: 0.3425\n",
      "Epoch 4/1000\n",
      "5479/5479 [==============================] - 17s 3ms/step - loss: 0.3769 - val_loss: 0.3468\n",
      "Epoch 4: early stopping\n",
      "2573/2573 [==============================] - 3s 1ms/step\n"
     ]
    }
   ],
   "source": [
    "for i in range(len(combinations)):\n",
    "    model_comp = combinations[i]\n",
    "    print(model_comp)\n",
    "    checkpointer = ModelCheckpoint(filepath=checkpoints[model_comp], verbose=0, save_best_only=True)\n",
    "    print(checkpoints[model_comp])\n",
    "    model = Sequential()\n",
    "    for j in range(1):\n",
    "        \n",
    "        model.add(Dense(neuron_count, input_dim=x_train.shape[1],activation=model_comp[0]))\n",
    "        model.add(Dense(neuron_count/div, activation=model_comp[0]))\n",
    "        model.add(Dense(neuron_count/(div*2), activation=model_comp[0]))\n",
    "        model.add(Dense(y_train.shape[1], activation='softmax'))\n",
    "        model.compile(loss='categorical_crossentropy', optimizer=Adam(0.001))\n",
    "        \n",
    "        monitor = EarlyStopping(monitor='val_loss', min_delta=1e-3, patience=2, verbose=1, mode='auto')\n",
    "        model.fit(x_train,y_train,validation_data=(x_test,y_test),callbacks=[monitor,checkpointer],verbose=1,epochs=1000)\n",
    "    model.load_weights(checkpoints[model_comp])\n",
    "    pred = model.predict(x_test)\n",
    "    pred = np.argmax(pred,axis=1)\n",
    "    \n",
    "    y_true = np.argmax(y_test,axis=1)\n",
    "    score = metrics.accuracy_score(y_true,pred)\n",
    "    cm = confusion_matrix(y_true, pred)\n",
    "    \n",
    "    result = (model_comp, pred, y_true, score, cm)\n",
    "    \n",
    "    result_values_multiclass.append(result)"
   ]
  },
  {
   "cell_type": "code",
   "execution_count": 73,
   "id": "7ed426ea-ef9f-4f77-a2fd-ae3ea3cd16e8",
   "metadata": {},
   "outputs": [],
   "source": [
    "relu_adam = result_values_multiclass[0]\n",
    "sigmoid_adam = result_values_multiclass[1]\n",
    "tahn_adam = result_values_multiclass[2]\n",
    "relu_sgd =  result_values_multiclass[3]\n",
    "sigmoid_sgd = result_values_multiclass[4]\n",
    "tahm_sgd =  result_values_multiclass[5]\n",
    "\n",
    "FNN_scores = [relu_adam[3], sigmoid_adam[3], tahn_adam[3], relu_sgd[3], sigmoid_sgd[3], tahm_sgd[3]]\n",
    "max_score = max(FNN_scores)\n",
    "max_score_index = FNN_scores.index(max_score)\n"
   ]
  },
  {
   "cell_type": "code",
   "execution_count": 74,
   "id": "dd48bbe3-f12e-496a-8638-98a909399eaf",
   "metadata": {},
   "outputs": [
    {
     "name": "stdout",
     "output_type": "stream",
     "text": [
      "0.8837562403585701\n",
      "3\n"
     ]
    }
   ],
   "source": [
    "print(max_score)\n",
    "print(max_score_index)\n"
   ]
  },
  {
   "cell_type": "code",
   "execution_count": 75,
   "id": "819a6622-53a9-4e36-a8bd-18a168d50ca6",
   "metadata": {},
   "outputs": [
    {
     "data": {
      "image/png": "[encoded data removed]",
      "text/plain": [
       "<Figure size 640x480 with 2 Axes>"
      ]
     },
     "metadata": {},
     "output_type": "display_data"
    },
    {
     "name": "stdout",
     "output_type": "stream",
     "text": [
      "              precision    recall  f1-score   support\n",
      "\n",
      "           0       0.00      0.00      0.00       677\n",
      "           1       0.00      0.00      0.00       583\n",
      "           2       0.55      0.01      0.03      4089\n",
      "           3       0.57      0.92      0.71     11131\n",
      "           4       0.74      0.74      0.74      6061\n",
      "           5       1.00      0.96      0.98     18871\n",
      "           6       1.00      1.00      1.00     36998\n",
      "           7       0.79      0.67      0.73      3495\n",
      "           8       0.83      0.08      0.14       378\n",
      "           9       0.00      0.00      0.00        44\n",
      "\n",
      "    accuracy                           0.88     82327\n",
      "   macro avg       0.55      0.44      0.43     82327\n",
      "weighted avg       0.87      0.88      0.86     82327\n",
      "\n"
     ]
    }
   ],
   "source": [
    "relu_adam_pred = relu_adam[1]\n",
    "relu_adam_y_true = relu_adam[2]\n",
    "relu_adam_score = relu_adam[3]\n",
    "relu_adam_cm = relu_adam[4]\n",
    "plt.figure()\n",
    "plot_confusion_matrix(relu_adam_cm, attack_cat2)\n",
    "plt.show()\n",
    "print(classification_report(relu_adam_y_true,relu_adam_pred))"
   ]
  },
  {
   "cell_type": "code",
   "execution_count": 76,
   "id": "f0149b93-f521-4526-bab2-7955fdfdaf78",
   "metadata": {},
   "outputs": [
    {
     "name": "stdout",
     "output_type": "stream",
     "text": [
      "Epoch 1/1000\n",
      "5479/5479 [==============================] - ETA: 0s - loss: 0.5379\n",
      "Epoch 1: val_loss improved from inf to 0.35410, saving model to dnn\\best_weights_cnn_reluadam_additional.hdf5\n",
      "5479/5479 [==============================] - 22s 4ms/step - loss: 0.5379 - val_loss: 0.3541\n",
      "Epoch 2/1000\n",
      "5476/5479 [============================>.] - ETA: 0s - loss: 0.4588\n",
      "Epoch 2: val_loss improved from 0.35410 to 0.34907, saving model to dnn\\best_weights_cnn_reluadam_additional.hdf5\n",
      "5479/5479 [==============================] - 23s 4ms/step - loss: 0.4588 - val_loss: 0.3491\n",
      "Epoch 3/1000\n",
      "5467/5479 [============================>.] - ETA: 0s - loss: 0.4392\n",
      "Epoch 3: val_loss improved from 0.34907 to 0.33862, saving model to dnn\\best_weights_cnn_reluadam_additional.hdf5\n",
      "5479/5479 [==============================] - 23s 4ms/step - loss: 0.4392 - val_loss: 0.3386\n",
      "Epoch 4/1000\n",
      "5468/5479 [============================>.] - ETA: 0s - loss: 0.4283\n",
      "Epoch 4: val_loss did not improve from 0.33862\n",
      "5479/5479 [==============================] - 22s 4ms/step - loss: 0.4283 - val_loss: 0.3445\n",
      "Epoch 5/1000\n",
      "5466/5479 [============================>.] - ETA: 0s - loss: 0.4208\n",
      "Epoch 5: val_loss did not improve from 0.33862\n",
      "5479/5479 [==============================] - 24s 4ms/step - loss: 0.4208 - val_loss: 0.3955\n",
      "Epoch 5: early stopping\n"
     ]
    },
    {
     "data": {
      "text/plain": [
       "<keras.callbacks.History at 0x2c600d78f40>"
      ]
     },
     "execution_count": 76,
     "metadata": {},
     "output_type": "execute_result"
    }
   ],
   "source": [
    "checkpointer_cnn = ModelCheckpoint(filepath=\"dnn/best_weights_cnn_reluadam_additional.hdf5\", verbose=1, save_best_only=True)\n",
    "cnn = Sequential()\n",
    "cnn.add(Conv2D(16, kernel_size=(1, 3), strides=(1, 1),\n",
    "                 activation='relu',\n",
    "                 input_shape=(1, 189, 1)))\n",
    "\n",
    "cnn.add(MaxPooling2D(pool_size=(1,2)))\n",
    "\n",
    "cnn.add(Conv2D(32, kernel_size=(1, 3), strides=(1, 1),\n",
    "                 activation='relu'))\n",
    "cnn.add(MaxPooling2D(pool_size=(1,2)))\n",
    "\n",
    "cnn.add(Flatten())\n",
    "cnn.add(Dense(64, activation=\"relu\"))\n",
    "cnn.add(Dropout(0.5))\n",
    "cnn.add(Dense(10, activation=\"softmax\"))\n",
    "\n",
    "cnn.compile(loss=\"categorical_crossentropy\", optimizer=\"adam\")\n",
    "\n",
    "cnn.fit(cnn_x_train, y_train,     \n",
    "          batch_size=batch_size,\n",
    "          epochs=1000,\n",
    "          verbose=1,\n",
    "          validation_data=(cnn_x_test, y_test),\n",
    "          callbacks=[monitor, checkpointer_cnn]\n",
    "         )"
   ]
  },
  {
   "cell_type": "code",
   "execution_count": 77,
   "id": "e22d33b7-3555-4741-b417-e9a12c6a334f",
   "metadata": {},
   "outputs": [
    {
     "name": "stdout",
     "output_type": "stream",
     "text": [
      "2573/2573 [==============================] - 4s 1ms/step\n",
      "Accuracy: 0.878314526218616\n"
     ]
    },
    {
     "data": {
      "image/png": "[encoded data removed]",
      "text/plain": [
       "<Figure size 640x480 with 2 Axes>"
      ]
     },
     "metadata": {},
     "output_type": "display_data"
    },
    {
     "name": "stdout",
     "output_type": "stream",
     "text": [
      "              precision    recall  f1-score   support\n",
      "\n",
      "           0       0.00      0.00      0.00       677\n",
      "           1       0.00      0.00      0.00       583\n",
      "           2       0.00      0.00      0.00      4089\n",
      "           3       0.57      0.93      0.71     11131\n",
      "           4       0.73      0.76      0.75      6061\n",
      "           5       1.00      0.96      0.98     18871\n",
      "           6       1.00      1.00      1.00     36998\n",
      "           7       0.84      0.62      0.72      3495\n",
      "           8       1.00      0.00      0.01       378\n",
      "           9       0.00      0.00      0.00        44\n",
      "\n",
      "    accuracy                           0.88     82327\n",
      "   macro avg       0.51      0.43      0.42     82327\n",
      "weighted avg       0.85      0.88      0.85     82327\n",
      "\n"
     ]
    }
   ],
   "source": [
    "cnn.load_weights('dnn/best_weights_cnn_reluadam_additional.hdf5')\n",
    "\n",
    "pred = cnn.predict(cnn_x_test)\n",
    "pred = np.argmax(pred,axis=1)\n",
    "score = metrics.accuracy_score(cnn_y_true, pred)\n",
    "print('Accuracy: {}'.format(score))\n",
    "\n",
    "cnn_cm = confusion_matrix(cnn_y_true, pred)\n",
    "cnn_scores.append( ('reluadam', score))\n",
    "plt.figure()\n",
    "plot_confusion_matrix(cnn_cm, attack_cat2)\n",
    "plt.show()\n",
    "print(classification_report(cnn_y_true,pred))"
   ]
  },
  {
   "cell_type": "markdown",
   "id": "cd081e4b-d27c-476f-9cec-c62f5c7ce2d9",
   "metadata": {},
   "source": [
    "#### **ADDITIONAL Features #2 Oversampling**"
   ]
  },
  {
   "cell_type": "code",
   "execution_count": 78,
   "id": "6cb7a751-0fb2-4187-a0e2-ccc35bb72a26",
   "metadata": {},
   "outputs": [
    {
     "name": "stdout",
     "output_type": "stream",
     "text": [
      "(175325, 190)\n",
      "(82327, 190)\n"
     ]
    }
   ],
   "source": [
    "train_excel = pd.read_csv('UNSW_NB15_training-set.csv')\n",
    "test_excel = pd.read_csv('UNSW_NB15_test-set.csv')\n",
    "\n",
    "train_us_df = train_excel\n",
    "test_us_df = test_excel\n",
    "\n",
    "#train_us, test_us = preProcess(train_us_df, test_us_df)\n",
    "\n",
    "train_us = add_two_train_df.copy()   \n",
    "test_us = add_two_test_df.copy()\n",
    "\n",
    "print(train_us.shape)\n",
    "print(test_us.shape)"
   ]
  },
  {
   "cell_type": "code",
   "execution_count": 79,
   "id": "93a6297a-ab45-4e9f-a534-b51c5c7a1edb",
   "metadata": {},
   "outputs": [
    {
     "name": "stdout",
     "output_type": "stream",
     "text": [
      "Worms:  130\n",
      "Fuzzers:  18184\n",
      "Fuzzers: 18184\n",
      "Analysis: 2000\n",
      "Backdoors: 1746\n",
      "DoS: 12264\n",
      "Exploits: 33393\n",
      "Generic: 40000\n",
      "Shellcode: 1133\n",
      "Reconnaissance: 10491\n"
     ]
    }
   ],
   "source": [
    "Worms = train_us['attack_cat'].value_counts()['Worms']\n",
    "Fuzzers = train_us['attack_cat'].value_counts().get('Fuzzers')\n",
    "Analysis = train_us['attack_cat'].value_counts().get('Analysis')\n",
    "Backdoors = train_us['attack_cat'].value_counts().get('Backdoor')\n",
    "Dos = train_us['attack_cat'].value_counts().get('DoS')\n",
    "Exploits = train_us['attack_cat'].value_counts().get('Exploits')\n",
    "Generic = train_us['attack_cat'].value_counts().get('Generic')\n",
    "Shellcode = train_us['attack_cat'].value_counts().get('Shellcode')\n",
    "Recon = train_us['attack_cat'].value_counts().get('Reconnaissance')\n",
    "\n",
    "print(\"Worms: \", Worms)\n",
    "print(\"Fuzzers: \", Fuzzers)\n",
    "print(\"Fuzzers:\", Fuzzers)\n",
    "print(\"Analysis:\", Analysis)\n",
    "print(\"Backdoors:\", Backdoors)\n",
    "print(\"DoS:\", Dos)\n",
    "print(\"Exploits:\", Exploits)\n",
    "print(\"Generic:\", Generic)\n",
    "print(\"Shellcode:\", Shellcode)\n",
    "print(\"Reconnaissance:\", Recon)"
   ]
  },
  {
   "cell_type": "code",
   "execution_count": 80,
   "id": "f008ab4c-1feb-4e21-9e11-86329caaaab8",
   "metadata": {},
   "outputs": [
    {
     "name": "stdout",
     "output_type": "stream",
     "text": [
      "Final count of 'Worms': 19890\n",
      "Final count of 'Analysis': 20000\n",
      "Final count of 'Shellcode': 19261\n"
     ]
    }
   ],
   "source": [
    "worm_num = train_us['attack_cat'].value_counts()['Worms']\n",
    "worms_needed = 20000 - worm_num;\n",
    "if worms_needed> 0:\n",
    "    worm_rows = train_us[train_us['attack_cat'] == 'Worms']\n",
    "    duplicated_worms = pd.concat([worm_rows] * (worms_needed // worm_num), ignore_index=True)\n",
    "    train_us = pd.concat([train_us, duplicated_worms], ignore_index=True)\n",
    "\n",
    "result1 = train_us['attack_cat'].value_counts().get('Worms', 0)\n",
    "print(\"Final count of 'Worms':\", result1)\n",
    "\n",
    "#####################################################################\n",
    "\n",
    "analysis_num = train_us['attack_cat'].value_counts()['Analysis']\n",
    "analysis_needed = 20000 - analysis_num;\n",
    "if analysis_needed> 0:\n",
    "    analysis_rows = train_us[train_us['attack_cat'] == 'Analysis']\n",
    "    duplicated_analysis = pd.concat([analysis_rows] * (analysis_needed // analysis_num), ignore_index=True)\n",
    "    train_us = pd.concat([train_us, duplicated_analysis], ignore_index=True)\n",
    "\n",
    "result2 = train_us['attack_cat'].value_counts().get('Analysis', 0)\n",
    "print(\"Final count of 'Analysis':\", result2)\n",
    "\n",
    "#####################################################################\n",
    "\n",
    "shellcode_num = train_us['attack_cat'].value_counts()['Shellcode']\n",
    "shellcode_needed = 20000 - shellcode_num;\n",
    "if shellcode_needed> 0:\n",
    "    shellcode_rows = train_us[train_us['attack_cat'] == 'Shellcode']\n",
    "    duplicated_shellcode = pd.concat([shellcode_rows] * (shellcode_needed // shellcode_num), ignore_index=True)\n",
    "    train_us = pd.concat([train_us, duplicated_shellcode], ignore_index=True)\n",
    "\n",
    "result3 = train_us['attack_cat'].value_counts().get('Shellcode', 0)\n",
    "print(\"Final count of 'Shellcode':\", result3)\n",
    "\n",
    "#train_us.to_csv('oversample_worms_train.csv', sep=',',index=None)"
   ]
  },
  {
   "cell_type": "code",
   "execution_count": 81,
   "id": "fdaaeecb-59e1-45c3-b1d4-7ec78dca33d1",
   "metadata": {},
   "outputs": [],
   "source": [
    "\n",
    "#train_us.to_csv('oversample_worms_train.csv', sep=',',index=None)"
   ]
  },
  {
   "cell_type": "code",
   "execution_count": 82,
   "id": "8b7fe9e9-9cd6-40b7-8910-0af923f6cac3",
   "metadata": {},
   "outputs": [
    {
     "name": "stdout",
     "output_type": "stream",
     "text": [
      "Final count of 'Worms': 19976\n",
      "Final count of 'Analysis': 19633\n",
      "Final count of 'Shellcode': 19656\n"
     ]
    }
   ],
   "source": [
    "worm_num = test_us['attack_cat'].value_counts()['Worms']\n",
    "worms_needed = 20000 - worm_num;\n",
    "if worms_needed> 0:\n",
    "    worm_rows = test_us[test_us['attack_cat'] == 'Worms']\n",
    "    duplicated_worms = pd.concat([worm_rows] * (worms_needed // worm_num), ignore_index=True)\n",
    "    test_us = pd.concat([test_us, duplicated_worms], ignore_index=True)\n",
    "\n",
    "result1 = test_us['attack_cat'].value_counts().get('Worms', 0)\n",
    "print(\"Final count of 'Worms':\", result1)\n",
    "\n",
    "#####################################################################\n",
    "\n",
    "analysis_num = test_us['attack_cat'].value_counts()['Analysis']\n",
    "analysis_needed = 20000 - analysis_num;\n",
    "if analysis_needed> 0:\n",
    "    analysis_rows = test_us[test_us['attack_cat'] == 'Analysis']\n",
    "    duplicated_analysis = pd.concat([analysis_rows] * (analysis_needed // analysis_num), ignore_index=True)\n",
    "    test_us = pd.concat([test_us, duplicated_analysis], ignore_index=True)\n",
    "\n",
    "result2 = test_us['attack_cat'].value_counts().get('Analysis', 0)\n",
    "print(\"Final count of 'Analysis':\", result2)\n",
    "\n",
    "#####################################################################\n",
    "\n",
    "shellcode_num = test_us['attack_cat'].value_counts()['Shellcode']\n",
    "shellcode_needed = 20000 - shellcode_num;\n",
    "if shellcode_needed> 0:\n",
    "    shellcode_rows = test_us[test_us['attack_cat'] == 'Shellcode']\n",
    "    duplicated_shellcode = pd.concat([shellcode_rows] * (shellcode_needed // shellcode_num), ignore_index=True)\n",
    "    test_us = pd.concat([test_us, duplicated_shellcode], ignore_index=True)\n",
    "\n",
    "result3 = test_us['attack_cat'].value_counts().get('Shellcode', 0)\n",
    "print(\"Final count of 'Shellcode':\", result3)\n",
    "\n",
    "#train_us.to_csv('oversample_worms_train.csv', sep=',',index=None)"
   ]
  },
  {
   "cell_type": "code",
   "execution_count": 83,
   "id": "513a863d-98ab-45d9-b5ba-5db201195949",
   "metadata": {},
   "outputs": [],
   "source": [
    "attack_two_cat1= encode_text_index(train_us, 'attack_cat')\n",
    "attack_two_cat2= encode_text_index(test_us, 'attack_cat')\n",
    "\n",
    "x_train_two, y_train_two = to_xy(train_us,'attack_cat')\n",
    "x_test_two, y_test_two = to_xy(test_us,'attack_cat')"
   ]
  },
  {
   "cell_type": "code",
   "execution_count": 84,
   "id": "2d16d931-c2a4-4b3e-9584-027c8c6d76fb",
   "metadata": {},
   "outputs": [],
   "source": [
    "add_y_true = np.argmax(y_test_two,axis=1)"
   ]
  },
  {
   "cell_type": "code",
   "execution_count": 85,
   "id": "87e7894a-f6ec-4838-a1eb-070cbd83d935",
   "metadata": {},
   "outputs": [
    {
     "data": {
      "text/plain": [
       "(231213, 189)"
      ]
     },
     "execution_count": 85,
     "metadata": {},
     "output_type": "execute_result"
    }
   ],
   "source": [
    "# add_one_train_df.to_csv('adonas.csv', sep=',', index=None)\n",
    "x_train_two.shape"
   ]
  },
  {
   "cell_type": "code",
   "execution_count": 86,
   "id": "6ddb939e-502e-458b-a330-eecac7259b11",
   "metadata": {},
   "outputs": [],
   "source": [
    "# train_us.to_csv('train_us.csv', sep=',', index=None)"
   ]
  },
  {
   "cell_type": "code",
   "execution_count": 87,
   "id": "563ff7a2-b1c9-4209-ae7b-ea7cd244ec65",
   "metadata": {},
   "outputs": [
    {
     "name": "stdout",
     "output_type": "stream",
     "text": [
      "Epoch 1/1000\n",
      "5462/5479 [============================>.] - ETA: 0s - loss: 0.4622\n",
      "Epoch 1: val_loss improved from inf to 1.61415, saving model to dnn\\best_weights_cnn_reluadam_additional2.hdf5\n",
      "5479/5479 [==============================] - 22s 4ms/step - loss: 0.4621 - val_loss: 1.6142\n",
      "Epoch 2/1000\n",
      "5478/5479 [============================>.] - ETA: 0s - loss: 0.4009\n",
      "Epoch 2: val_loss did not improve from 1.61415\n",
      "5479/5479 [==============================] - 24s 4ms/step - loss: 0.4009 - val_loss: 1.6423\n",
      "Epoch 3/1000\n",
      "5475/5479 [============================>.] - ETA: 0s - loss: 0.3863\n",
      "Epoch 3: val_loss improved from 1.61415 to 1.55367, saving model to dnn\\best_weights_cnn_reluadam_additional2.hdf5\n",
      "5479/5479 [==============================] - 22s 4ms/step - loss: 0.3863 - val_loss: 1.5537\n",
      "Epoch 4/1000\n",
      "5472/5479 [============================>.] - ETA: 0s - loss: 0.3782\n",
      "Epoch 4: val_loss did not improve from 1.55367\n",
      "5479/5479 [==============================] - 22s 4ms/step - loss: 0.3782 - val_loss: 1.6935\n",
      "Epoch 5/1000\n",
      "5473/5479 [============================>.] - ETA: 0s - loss: 0.3722\n",
      "Epoch 5: val_loss did not improve from 1.55367\n",
      "5479/5479 [==============================] - 21s 4ms/step - loss: 0.3722 - val_loss: 1.8667\n",
      "Epoch 5: early stopping\n",
      "4391/4391 [==============================] - 5s 1ms/step\n",
      "Accuracy: 0.5496430427138719\n"
     ]
    },
    {
     "data": {
      "image/png": "[encoded data removed]",
      "text/plain": [
       "<Figure size 640x480 with 2 Axes>"
      ]
     },
     "metadata": {},
     "output_type": "display_data"
    },
    {
     "name": "stdout",
     "output_type": "stream",
     "text": [
      "              precision    recall  f1-score   support\n",
      "\n",
      "           0       0.40      0.00      0.00     19633\n",
      "           1       0.08      0.00      0.00       583\n",
      "           2       0.46      0.04      0.07      4089\n",
      "           3       0.19      0.90      0.32     11131\n",
      "           4       0.20      0.77      0.32      6061\n",
      "           5       1.00      0.96      0.98     18871\n",
      "           6       1.00      1.00      1.00     36998\n",
      "           7       0.46      0.65      0.54      3495\n",
      "           8       1.00      0.16      0.27     19656\n",
      "           9       1.00      0.09      0.17     19976\n",
      "\n",
      "    accuracy                           0.55    140493\n",
      "   macro avg       0.58      0.46      0.37    140493\n",
      "weighted avg       0.78      0.55      0.51    140493\n",
      "\n"
     ]
    }
   ],
   "source": [
    "checkpointer_cnn = ModelCheckpoint(filepath='dnn/best_weights_cnn_reluadam_additional2.hdf5', verbose=1, save_best_only=True)\n",
    "\n",
    "model = Sequential()\n",
    "for j in range(1):\n",
    "\n",
    "    model.add(Dense(189, input_dim=x_train_two.shape[1],activation='relu'))\n",
    "    model.add(Dense(neuron_count/div, activation='relu'))\n",
    "    model.add(Dense(neuron_count/(div*2), activation='relu'))\n",
    "    model.add(Dense(y_train.shape[1], activation='softmax'))\n",
    "    model.compile(loss='categorical_crossentropy', optimizer=Adam(0.001))\n",
    "\n",
    "    monitor = EarlyStopping(monitor='val_loss', min_delta=1e-3, patience=2, verbose=1, mode='auto')\n",
    "    model.fit(x_train,y_train,validation_data=(x_test_two,y_test_two),callbacks=[monitor,checkpointer_cnn],verbose=1,epochs=1000)\n",
    "model.load_weights('dnn/best_weights_cnn_reluadam_additional2.hdf5')\n",
    "pred = model.predict(x_test_two)\n",
    "pred = np.argmax(pred,axis=1)\n",
    "\n",
    "y_true = np.argmax(y_test_two,axis=1)\n",
    "score = metrics.accuracy_score(add_y_true,pred)\n",
    "print('Accuracy: {}'.format(score))\n",
    "\n",
    "add2a_cnn = confusion_matrix(add_y_true, pred)\n",
    "\n",
    "plt.figure()\n",
    "plot_confusion_matrix(add2a_cnn, attack_two_cat2)\n",
    "plt.show()\n",
    "print(classification_report(add_y_true,pred))\n"
   ]
  },
  {
   "cell_type": "code",
   "execution_count": 88,
   "id": "c399225e",
   "metadata": {},
   "outputs": [],
   "source": [
    "cnn_x_train = x_train_two.reshape((x_train_two.shape[0], 1, x_train_two.shape[1], 1))\n",
    "cnn_x_test = x_test_two.reshape((x_test_two.shape[0], 1, x_test_two.shape[1], 1))\n",
    "cnn_y_true = np.argmax(y_test_two,axis=1)"
   ]
  },
  {
   "cell_type": "code",
   "execution_count": 89,
   "id": "d87ba50a",
   "metadata": {},
   "outputs": [
    {
     "name": "stdout",
     "output_type": "stream",
     "text": [
      "Epoch 1/1000\n",
      "7226/7226 [==============================] - ETA: 0s - loss: 0.6790\n",
      "Epoch 1: val_loss improved from inf to 0.72904, saving model to dnn\\best_weights_cnn_reluadam_additional_add2a.hdf5\n",
      "7226/7226 [==============================] - 31s 4ms/step - loss: 0.6790 - val_loss: 0.7290\n",
      "Epoch 2/1000\n",
      "7221/7226 [============================>.] - ETA: 0s - loss: 0.5524\n",
      "Epoch 2: val_loss improved from 0.72904 to 0.72670, saving model to dnn\\best_weights_cnn_reluadam_additional_add2a.hdf5\n",
      "7226/7226 [==============================] - 33s 5ms/step - loss: 0.5523 - val_loss: 0.7267\n",
      "Epoch 3/1000\n",
      "7224/7226 [============================>.] - ETA: 0s - loss: 0.5183\n",
      "Epoch 3: val_loss did not improve from 0.72670\n",
      "7226/7226 [==============================] - 33s 5ms/step - loss: 0.5183 - val_loss: 0.8490\n",
      "Epoch 4/1000\n",
      "7222/7226 [============================>.] - ETA: 0s - loss: 0.4988\n",
      "Epoch 4: val_loss did not improve from 0.72670\n",
      "7226/7226 [==============================] - 34s 5ms/step - loss: 0.4988 - val_loss: 1.0912\n",
      "Epoch 4: early stopping\n"
     ]
    },
    {
     "data": {
      "text/plain": [
       "<keras.callbacks.History at 0x2c83e79bc70>"
      ]
     },
     "execution_count": 89,
     "metadata": {},
     "output_type": "execute_result"
    }
   ],
   "source": [
    "checkpointer_cnn = ModelCheckpoint(filepath=\"dnn/best_weights_cnn_reluadam_additional_add2a.hdf5\", verbose=1, save_best_only=True)\n",
    "cnn = Sequential()\n",
    "cnn.add(Conv2D(16, kernel_size=(1, 3), strides=(1, 1), activation='relu', input_shape=(1, 189, 1)))\n",
    "\n",
    "cnn.add(MaxPooling2D(pool_size=(1,2)))\n",
    "\n",
    "cnn.add(Conv2D(32, kernel_size=(1, 3), strides=(1, 1), activation='relu'))\n",
    "cnn.add(MaxPooling2D(pool_size=(1,2)))\n",
    "\n",
    "cnn.add(Flatten())\n",
    "cnn.add(Dense(64, activation=\"relu\"))\n",
    "cnn.add(Dropout(0.5))\n",
    "cnn.add(Dense(10, activation=\"softmax\"))\n",
    "\n",
    "cnn.compile(loss=\"categorical_crossentropy\", optimizer=\"adam\")\n",
    "\n",
    "cnn.fit(cnn_x_train, y_train_two, batch_size=batch_size, epochs=1000, verbose=1, validation_data=(cnn_x_test, y_test_two), callbacks=[monitor, checkpointer_cnn])"
   ]
  },
  {
   "cell_type": "code",
   "execution_count": 90,
   "id": "ca6e446b",
   "metadata": {},
   "outputs": [
    {
     "name": "stdout",
     "output_type": "stream",
     "text": [
      "4391/4391 [==============================] - 5s 1ms/step\n",
      "Accuracy: 0.8016983052536425\n"
     ]
    },
    {
     "data": {
      "image/png": "[encoded data removed]",
      "text/plain": [
       "<Figure size 640x480 with 2 Axes>"
      ]
     },
     "metadata": {},
     "output_type": "display_data"
    },
    {
     "name": "stdout",
     "output_type": "stream",
     "text": [
      "              precision    recall  f1-score   support\n",
      "\n",
      "           0       0.70      0.86      0.77     19633\n",
      "           1       0.00      0.00      0.00       583\n",
      "           2       0.05      0.00      0.00      4089\n",
      "           3       0.50      0.62      0.56     11131\n",
      "           4       0.37      0.75      0.50      6061\n",
      "           5       1.00      0.96      0.98     18871\n",
      "           6       1.00      1.00      1.00     36998\n",
      "           7       0.31      0.31      0.31      3495\n",
      "           8       0.84      0.69      0.76     19656\n",
      "           9       0.95      0.73      0.82     19976\n",
      "\n",
      "    accuracy                           0.80    140493\n",
      "   macro avg       0.57      0.59      0.57    140493\n",
      "weighted avg       0.81      0.80      0.80    140493\n",
      "\n"
     ]
    }
   ],
   "source": [
    "cnn.load_weights('dnn/best_weights_cnn_reluadam_additional_add2a.hdf5')\n",
    "\n",
    "pred = cnn.predict(cnn_x_test)\n",
    "pred = np.argmax(pred,axis=1)\n",
    "score = metrics.accuracy_score(cnn_y_true, pred)\n",
    "print('Accuracy: {}'.format(score))\n",
    "\n",
    "cnn_cm = confusion_matrix(add_y_true, pred)\n",
    "cnn_scores.append( ('reluadam', score))\n",
    "plt.figure()\n",
    "plot_confusion_matrix(cnn_cm, attack_two_cat2)\n",
    "plt.show()\n",
    "print(classification_report(add_y_true,pred))"
   ]
  }
 ],
 "metadata": {
  "kernelspec": {
   "display_name": "Python 3 (ipykernel)",
   "language": "python",
   "name": "python3"
  },
  "language_info": {
   "codemirror_mode": {
    "name": "ipython",
    "version": 3
   },
   "file_extension": ".py",
   "mimetype": "text/x-python",
   "name": "python",
   "nbconvert_exporter": "python",
   "pygments_lexer": "ipython3",
   "version": "3.10.9"
  }
 },
 "nbformat": 4,
 "nbformat_minor": 5
}
